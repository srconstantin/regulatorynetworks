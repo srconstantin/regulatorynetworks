{
 "cells": [
  {
   "cell_type": "code",
   "execution_count": 1,
   "metadata": {},
   "outputs": [],
   "source": [
    "import pandas as pd\n",
    "import numpy as np\n",
    "import networkx as nx\n",
    "import matplotlib.pyplot as plt"
   ]
  },
  {
   "cell_type": "code",
   "execution_count": 2,
   "metadata": {},
   "outputs": [],
   "source": [
    "biggraph = pd.read_csv('biggraph.csv')\n",
    "nodes = np.unique(np.concatenate((biggraph['First'].unique(), biggraph['Second'].unique())))\n",
    "bigmatrix = np.zeros((len(nodes), len(nodes)))\n",
    "nodesdict = dict(zip(nodes, range(len(nodes))))\n",
    "for index, row in biggraph.iterrows():\n",
    "    first = row['First']\n",
    "    second = row['Second']\n",
    "    value = row['Direction']\n",
    "    i = nodesdict[first]\n",
    "    j = nodesdict[second]\n",
    "    bigmatrix[i, j] = value\n",
    "graph = nx.DiGraph()\n",
    "graph.add_nodes_from(nodes)\n",
    "graph.add_edges_from([(row['First'], row['Second']) for index, row in biggraph.iterrows()])"
   ]
  },
  {
   "cell_type": "code",
   "execution_count": 3,
   "metadata": {},
   "outputs": [],
   "source": [
    "roots = [x for x in list(graph.nodes) if graph.in_degree[x] == 0]"
   ]
  },
  {
   "cell_type": "code",
   "execution_count": 4,
   "metadata": {},
   "outputs": [
    {
     "data": {
      "text/plain": [
       "38"
      ]
     },
     "execution_count": 4,
     "metadata": {},
     "output_type": "execute_result"
    }
   ],
   "source": [
    "len(roots)"
   ]
  },
  {
   "cell_type": "code",
   "execution_count": 5,
   "metadata": {},
   "outputs": [],
   "source": [
    "def descendantcount(n, visited=[]):\n",
    "    count =0\n",
    "    visited.append(n)\n",
    "    successors = list(graph.successors(n))\n",
    "    \n",
    "    for i in successors:\n",
    "        if i not in visited:\n",
    "            visited.append(i)\n",
    "            count += 1 + descendantcount(i, visited)\n",
    "            \n",
    "    return count\n",
    "        \n",
    "    "
   ]
  },
  {
   "cell_type": "code",
   "execution_count": 6,
   "metadata": {},
   "outputs": [
    {
     "name": "stdout",
     "output_type": "stream",
     "text": [
      "ATF6: 3\n",
      "Adiponectin: 90\n",
      "CD38: 90\n",
      "CLOCK: 90\n",
      "CaMKKb: 90\n",
      "H2AX: 7\n",
      "H3K27me3: 1\n",
      "H3K4me3: 1\n",
      "H3K9me: 1\n",
      "H4K16ac: 1\n",
      "H4K20me3: 1\n",
      "HI1-a: 20\n",
      "HP1a: 1\n",
      "HSP90: 90\n",
      "IRE1: 3\n",
      "LAMP2a: 4\n",
      "LKB1: 90\n",
      "LMNA: 90\n",
      "Leptin: 90\n",
      "MEKK: 2\n",
      "Melatonin: 91\n",
      "NGF: 3\n",
      "NO: 90\n",
      "NR: 90\n",
      "Norepinephrine: 1\n",
      "NuRD: 8\n",
      "PERK: 3\n",
      "PHD: 2\n",
      "PP2a: 90\n",
      "SHP-1: 93\n",
      "SIRT6: 91\n",
      "SOD: 90\n",
      "Shelterin: 1\n",
      "Superoxide: 91\n",
      "TAK1: 90\n",
      "TERT: 90\n",
      "TFEB: 4\n",
      "TRL4: 90\n"
     ]
    }
   ],
   "source": [
    "for r in roots:\n",
    "    mydict = {r: descendantcount(r, [])}\n",
    "    for key in sorted(mydict.keys()):\n",
    "        print(\"%s: %s\" % (key, mydict[key]))\n"
   ]
  },
  {
   "cell_type": "code",
   "execution_count": 7,
   "metadata": {},
   "outputs": [
    {
     "data": {
      "text/plain": [
       "['alan', 'bob', 'carl', 'danny']"
      ]
     },
     "execution_count": 7,
     "metadata": {},
     "output_type": "execute_result"
    }
   ],
   "source": [
    "mydict = {'carl':40,\n",
    "          'alan':2,\n",
    "          'bob':1,\n",
    "          'danny':3}\n",
    "sorted(mydict.keys())"
   ]
  },
  {
   "cell_type": "code",
   "execution_count": null,
   "metadata": {},
   "outputs": [],
   "source": []
  }
 ],
 "metadata": {
  "kernelspec": {
   "display_name": "Python 3",
   "language": "python",
   "name": "python3"
  },
  "language_info": {
   "codemirror_mode": {
    "name": "ipython",
    "version": 3
   },
   "file_extension": ".py",
   "mimetype": "text/x-python",
   "name": "python",
   "nbconvert_exporter": "python",
   "pygments_lexer": "ipython3",
   "version": "3.6.4"
  }
 },
 "nbformat": 4,
 "nbformat_minor": 2
}
