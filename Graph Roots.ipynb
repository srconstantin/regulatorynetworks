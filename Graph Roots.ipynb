{
 "cells": [
  {
   "cell_type": "code",
   "execution_count": 1,
   "metadata": {},
   "outputs": [],
   "source": [
    "import pandas as pd\n",
    "import numpy as np\n",
    "import networkx as nx\n",
    "import matplotlib.pyplot as plt"
   ]
  },
  {
   "cell_type": "code",
   "execution_count": 2,
   "metadata": {},
   "outputs": [],
   "source": [
    "biggraph = pd.read_csv('biggraph.csv')\n",
    "nodes = np.unique(np.concatenate((biggraph['First'].unique(), biggraph['Second'].unique())))\n",
    "bigmatrix = np.zeros((len(nodes), len(nodes)))\n",
    "nodesdict = dict(zip(nodes, range(len(nodes))))\n",
    "for index, row in biggraph.iterrows():\n",
    "    first = row['First']\n",
    "    second = row['Second']\n",
    "    value = row['Direction']\n",
    "    i = nodesdict[first]\n",
    "    j = nodesdict[second]\n",
    "    bigmatrix[i, j] = value\n",
    "graph = nx.DiGraph()\n",
    "graph.add_nodes_from(nodes)\n",
    "graph.add_edges_from([(row['First'], row['Second']) for index, row in biggraph.iterrows()])"
   ]
  },
  {
   "cell_type": "code",
   "execution_count": 3,
   "metadata": {},
   "outputs": [],
   "source": [
    "roots = [x for x in list(graph.nodes) if graph.in_degree[x] == 0]"
   ]
  },
  {
   "cell_type": "code",
   "execution_count": 4,
   "metadata": {},
   "outputs": [
    {
     "data": {
      "text/plain": [
       "38"
      ]
     },
     "execution_count": 4,
     "metadata": {},
     "output_type": "execute_result"
    }
   ],
   "source": [
    "len(roots)"
   ]
  },
  {
   "cell_type": "code",
   "execution_count": 10,
   "metadata": {},
   "outputs": [],
   "source": [
    "def descendantcount(n, visited=[]):\n",
    "    count =0\n",
    "    visited.append(n)\n",
    "    successors = list(graph.successors(n))\n",
    "    print(successors)\n",
    "    \n",
    "    for i in successors:\n",
    "        if i not in visited:\n",
    "            visited.append(i)\n",
    "            count += 1 + descendantcount(i, visited)\n",
    "            \n",
    "    return count\n",
    "        \n",
    "    "
   ]
  },
  {
   "cell_type": "code",
   "execution_count": 6,
   "metadata": {},
   "outputs": [
    {
     "name": "stdout",
     "output_type": "stream",
     "text": [
      "ATF6: 3\n",
      "Adiponectin: 90\n",
      "CD38: 90\n",
      "CLOCK: 90\n",
      "CaMKKb: 90\n",
      "H2AX: 7\n",
      "H3K27me3: 1\n",
      "H3K4me3: 1\n",
      "H3K9me: 1\n",
      "H4K16ac: 1\n",
      "H4K20me3: 1\n",
      "HI1-a: 20\n",
      "HP1a: 1\n",
      "HSP90: 90\n",
      "IRE1: 3\n",
      "LAMP2a: 4\n",
      "LKB1: 90\n",
      "LMNA: 90\n",
      "Leptin: 90\n",
      "MEKK: 2\n",
      "Melatonin: 91\n",
      "NGF: 3\n",
      "NO: 90\n",
      "NR: 90\n",
      "Norepinephrine: 1\n",
      "NuRD: 8\n",
      "PERK: 3\n",
      "PHD: 2\n",
      "PP2a: 90\n",
      "SHP-1: 93\n",
      "SIRT6: 91\n",
      "SOD: 90\n",
      "Shelterin: 1\n",
      "Superoxide: 91\n",
      "TAK1: 90\n",
      "TERT: 90\n",
      "TFEB: 4\n",
      "TRL4: 90\n"
     ]
    }
   ],
   "source": [
    "for r in roots:\n",
    "    mydict = {r: descendantcount(r, [])}\n",
    "    for key in sorted(mydict.keys()):\n",
    "        print(\"%s: %s\" % (key, mydict[key]))\n"
   ]
  },
  {
   "cell_type": "code",
   "execution_count": 7,
   "metadata": {},
   "outputs": [
    {
     "data": {
      "text/plain": [
       "['alan', 'bob', 'carl', 'danny']"
      ]
     },
     "execution_count": 7,
     "metadata": {},
     "output_type": "execute_result"
    }
   ],
   "source": [
    "mydict = {'carl':40,\n",
    "          'alan':2,\n",
    "          'bob':1,\n",
    "          'danny':3}\n",
    "sorted(mydict.keys())"
   ]
  },
  {
   "cell_type": "code",
   "execution_count": 11,
   "metadata": {},
   "outputs": [
    {
     "name": "stdout",
     "output_type": "stream",
     "text": [
      "['mtDNA', 'Cancerous Cells', 'Mitochondrial Mutations', 'Stem Cell Exhaustion']\n",
      "['Mitochondrial Dysfunction']\n",
      "['Mitochondrial Mutations']\n",
      "['Mitochondrial Dysfunction']\n",
      "[]\n",
      "['Cell Loss and Atrophy']\n",
      "[]\n"
     ]
    },
    {
     "data": {
      "text/plain": [
       "6"
      ]
     },
     "execution_count": 11,
     "metadata": {},
     "output_type": "execute_result"
    }
   ],
   "source": [
    "descendantcount('Genomic Instability')\n",
    "        "
   ]
  },
  {
   "cell_type": "code",
   "execution_count": 13,
   "metadata": {},
   "outputs": [
    {
     "name": "stdout",
     "output_type": "stream",
     "text": [
      "[]\n"
     ]
    },
    {
     "data": {
      "text/plain": [
       "0"
      ]
     },
     "execution_count": 13,
     "metadata": {},
     "output_type": "execute_result"
    }
   ],
   "source": [
    "descendantcount('Epigenetic Alteration')"
   ]
  },
  {
   "cell_type": "code",
   "execution_count": 14,
   "metadata": {},
   "outputs": [
    {
     "name": "stdout",
     "output_type": "stream",
     "text": [
      "[]\n"
     ]
    },
    {
     "data": {
      "text/plain": [
       "0"
      ]
     },
     "execution_count": 14,
     "metadata": {},
     "output_type": "execute_result"
    }
   ],
   "source": [
    "descendantcount('Telomere Attrition')"
   ]
  },
  {
   "cell_type": "code",
   "execution_count": 15,
   "metadata": {},
   "outputs": [
    {
     "name": "stdout",
     "output_type": "stream",
     "text": [
      "['Extracellular Junk', 'Intracellular Junk']\n",
      "[]\n",
      "[]\n"
     ]
    },
    {
     "data": {
      "text/plain": [
       "2"
      ]
     },
     "execution_count": 15,
     "metadata": {},
     "output_type": "execute_result"
    }
   ],
   "source": [
    "descendantcount('Loss of Proteostasis')"
   ]
  },
  {
   "cell_type": "code",
   "execution_count": 16,
   "metadata": {},
   "outputs": [
    {
     "name": "stdout",
     "output_type": "stream",
     "text": [
      "[]\n"
     ]
    },
    {
     "data": {
      "text/plain": [
       "0"
      ]
     },
     "execution_count": 16,
     "metadata": {},
     "output_type": "execute_result"
    }
   ],
   "source": [
    "descendantcount('Altered Intercellular Communication')"
   ]
  },
  {
   "cell_type": "code",
   "execution_count": 17,
   "metadata": {},
   "outputs": [
    {
     "name": "stdout",
     "output_type": "stream",
     "text": [
      "['IL-6', 'IL-1a', 'GM-CSF', 'Death-Resistant Cells', 'CD28']\n",
      "['NFkB', 'Altered Intercellular Communication', 'Thymic Atrophy']\n",
      "['GnRH', 'IFN-a', 'TNF-a', 'IL-1b', 'IL-2', 'Altered Intercellular Communication', 'Klotho']\n",
      "[]\n",
      "['Altered Intercellular Communication']\n",
      "['NAD+', 'Altered Intercellular Communication', 'Aromatase']\n",
      "['SIRT1', 'Mitochondrial Dysfunction', 'Hsp60', 'SOD2', 'lactate', 'Neural stem cells']\n",
      "['Hsp7', 'AMPK', 'PCG1a', 'NFkB', 'HIF-1a', 'mtDNA', 'PRDM13', 'NAMPT', 'FOXO1', 'UCP2', 'p53', 'LXRa', 'PTP1B', 'PPARg', 'HSF1', 'Stem Cell Exhaustion', 'BMAL1', 'HNF1a', 'Genomic Instability']\n",
      "['Autophagy']\n",
      "['Loss of Proteostasis']\n",
      "['SIRT1', 'mTOR', 'UCP2', 'mtDNA', 'ULK1', 'NRF-2', 'NFkB', 'p53', 'CRTC-1', 'PCG1a', 'TSC']\n",
      "['Autophagy', 'Dysregulated Nutrient Sensing', 'PCG1a']\n",
      "['Extracellular Crosslinks']\n",
      "[]\n",
      "['Gluconeogenesis', 'Glycolysis', 'PPARa', 'NRF-1', 'ERRa']\n",
      "[]\n",
      "[]\n",
      "[]\n",
      "['Mitochondrial Biogenesis', 'VHL']\n",
      "['Mitochondrial Dysfunction']\n",
      "['HIF1-a']\n",
      "['Glycolysis']\n",
      "['NRF-2']\n",
      "['Mitochondrial Biogenesis']\n",
      "['Insulin']\n",
      "[]\n",
      "['Autophagy']\n",
      "['Cellular Senescence', 'IGF-1']\n",
      "['PI3K', 'Ras']\n",
      "['Akt']\n",
      "['mTOR', 'FOXO1', 'Cellular Senescence', 'BAD', 'PRAS40', 'TSC']\n",
      "['Dysregulated Nutrient Sensing', 'Stem Cell Exhaustion']\n",
      "['Apoptosis']\n",
      "[]\n",
      "['mTOR']\n",
      "['mTOR']\n",
      "['Cellular Senescence', 'RAF']\n",
      "['MEK']\n",
      "['ErK']\n",
      "[]\n",
      "[]\n",
      "[]\n",
      "['NAD+']\n",
      "['NMN']\n",
      "['NAD+']\n",
      "[]\n",
      "['Insulin Sensitivity']\n",
      "['Dysregulated Nutrient Sensing']\n",
      "['Adipogenesis']\n",
      "['Dysregulated Nutrient Sensing']\n",
      "['Loss of Proteostasis']\n",
      "['NAD+', 'mTOR', 'NAMPT']\n",
      "['cMYC']\n",
      "['mtDNA']\n",
      "[]\n",
      "['Stem Cell Exhaustion']\n",
      "['Acetyl-CoA']\n",
      "['PCAF']\n",
      "['SIRT1']\n",
      "['Stem Cell Exhaustion']\n",
      "['Estrogen']\n",
      "['Akt']\n",
      "['Altered Intercellular Communication']\n",
      "[]\n",
      "['Insulin', 'Wnt', 'ROS']\n",
      "['Stem Cell Exhaustion', 'LRP']\n",
      "['GSK3']\n",
      "['PCG1a', 'TSC']\n",
      "['PTEN', 'PTP1B', 'CDC25', 'LNK', 'p16', 'Telomere Attrition']\n",
      "['PI3K', 'Stem Cell Exhaustion']\n",
      "[]\n",
      "[]\n",
      "['Cellular Senescence']\n",
      "['Stem Cell Exhaustion']\n",
      "[]\n",
      "[]\n",
      "['Cellular Senescence']\n",
      "['ROS']\n"
     ]
    },
    {
     "data": {
      "text/plain": [
       "77"
      ]
     },
     "execution_count": 17,
     "metadata": {},
     "output_type": "execute_result"
    }
   ],
   "source": [
    "descendantcount('Cellular Senescence')"
   ]
  },
  {
   "cell_type": "code",
   "execution_count": 18,
   "metadata": {},
   "outputs": [
    {
     "name": "stdout",
     "output_type": "stream",
     "text": [
      "['Extracellular Crosslinks']\n"
     ]
    },
    {
     "data": {
      "text/plain": [
       "0"
      ]
     },
     "execution_count": 18,
     "metadata": {},
     "output_type": "execute_result"
    }
   ],
   "source": [
    "descendantcount('Dysregulated Nutrient Sensing')"
   ]
  },
  {
   "cell_type": "code",
   "execution_count": 19,
   "metadata": {},
   "outputs": [
    {
     "name": "stdout",
     "output_type": "stream",
     "text": [
      "[]\n"
     ]
    },
    {
     "data": {
      "text/plain": [
       "0"
      ]
     },
     "execution_count": 19,
     "metadata": {},
     "output_type": "execute_result"
    }
   ],
   "source": [
    "descendantcount('Epigenetic Alteration')"
   ]
  },
  {
   "cell_type": "code",
   "execution_count": 20,
   "metadata": {},
   "outputs": [
    {
     "name": "stdout",
     "output_type": "stream",
     "text": [
      "['mtDNA', 'Cancerous Cells', 'Mitochondrial Mutations', 'Stem Cell Exhaustion']\n"
     ]
    },
    {
     "data": {
      "text/plain": [
       "0"
      ]
     },
     "execution_count": 20,
     "metadata": {},
     "output_type": "execute_result"
    }
   ],
   "source": [
    "descendantcount('Genomic Instability')"
   ]
  },
  {
   "cell_type": "code",
   "execution_count": 21,
   "metadata": {},
   "outputs": [
    {
     "name": "stdout",
     "output_type": "stream",
     "text": [
      "['Extracellular Junk', 'Intracellular Junk']\n"
     ]
    },
    {
     "data": {
      "text/plain": [
       "0"
      ]
     },
     "execution_count": 21,
     "metadata": {},
     "output_type": "execute_result"
    }
   ],
   "source": [
    "descendantcount('Loss of Proteostasis')"
   ]
  },
  {
   "cell_type": "code",
   "execution_count": 23,
   "metadata": {},
   "outputs": [
    {
     "name": "stdout",
     "output_type": "stream",
     "text": [
      "['Mitochondrial Mutations']\n"
     ]
    },
    {
     "data": {
      "text/plain": [
       "0"
      ]
     },
     "execution_count": 23,
     "metadata": {},
     "output_type": "execute_result"
    }
   ],
   "source": [
    "descendantcount('Mitochondrial Dysfunction')"
   ]
  },
  {
   "cell_type": "code",
   "execution_count": 24,
   "metadata": {},
   "outputs": [
    {
     "name": "stdout",
     "output_type": "stream",
     "text": [
      "['Cell Loss and Atrophy']\n"
     ]
    },
    {
     "data": {
      "text/plain": [
       "0"
      ]
     },
     "execution_count": 24,
     "metadata": {},
     "output_type": "execute_result"
    }
   ],
   "source": [
    "descendantcount('Stem Cell Exhaustion')"
   ]
  },
  {
   "cell_type": "code",
   "execution_count": 25,
   "metadata": {},
   "outputs": [
    {
     "name": "stdout",
     "output_type": "stream",
     "text": [
      "[]\n"
     ]
    },
    {
     "data": {
      "text/plain": [
       "0"
      ]
     },
     "execution_count": 25,
     "metadata": {},
     "output_type": "execute_result"
    }
   ],
   "source": [
    "descendantcount('Telomere Attrition')"
   ]
  },
  {
   "cell_type": "code",
   "execution_count": null,
   "metadata": {},
   "outputs": [],
   "source": []
  }
 ],
 "metadata": {
  "kernelspec": {
   "display_name": "Python 3",
   "language": "python",
   "name": "python3"
  },
  "language_info": {
   "codemirror_mode": {
    "name": "ipython",
    "version": 3
   },
   "file_extension": ".py",
   "mimetype": "text/x-python",
   "name": "python",
   "nbconvert_exporter": "python",
   "pygments_lexer": "ipython3",
   "version": "3.6.4"
  }
 },
 "nbformat": 4,
 "nbformat_minor": 2
}
