{
 "cells": [
  {
   "cell_type": "code",
   "execution_count": 1,
   "metadata": {},
   "outputs": [],
   "source": [
    "import pandas as pd"
   ]
  },
  {
   "cell_type": "code",
   "execution_count": 2,
   "metadata": {},
   "outputs": [],
   "source": [
    "littlegraph = pd.DataFrame(columns=['First', 'Second', 'Direction'])"
   ]
  },
  {
   "cell_type": "code",
   "execution_count": 3,
   "metadata": {},
   "outputs": [
    {
     "ename": "NameError",
     "evalue": "name 'biggraph' is not defined",
     "output_type": "error",
     "traceback": [
      "\u001b[0;31m---------------------------------------------------------------------------\u001b[0m",
      "\u001b[0;31mNameError\u001b[0m                                 Traceback (most recent call last)",
      "\u001b[0;32m<ipython-input-3-586f0be27376>\u001b[0m in \u001b[0;36m<module>\u001b[0;34m()\u001b[0m\n\u001b[0;32m----> 1\u001b[0;31m \u001b[0mlittlegraph\u001b[0m \u001b[0;34m=\u001b[0m \u001b[0mlittlegraph\u001b[0m\u001b[0;34m.\u001b[0m\u001b[0mappend\u001b[0m\u001b[0;34m(\u001b[0m\u001b[0mpd\u001b[0m\u001b[0;34m.\u001b[0m\u001b[0mDataFrame\u001b[0m\u001b[0;34m(\u001b[0m\u001b[0;34m[\u001b[0m\u001b[0;34m[\u001b[0m\u001b[0;34m'Genomic Instability'\u001b[0m\u001b[0;34m,\u001b[0m \u001b[0;34m'Mitochondrial Mutations'\u001b[0m\u001b[0;34m,\u001b[0m \u001b[0;36m1\u001b[0m\u001b[0;34m]\u001b[0m\u001b[0;34m]\u001b[0m\u001b[0;34m,\u001b[0m \u001b[0mcolumns\u001b[0m\u001b[0;34m=\u001b[0m\u001b[0mbiggraph\u001b[0m\u001b[0;34m.\u001b[0m\u001b[0mcolumns\u001b[0m\u001b[0;34m)\u001b[0m\u001b[0;34m)\u001b[0m\u001b[0;34m\u001b[0m\u001b[0m\n\u001b[0m",
      "\u001b[0;31mNameError\u001b[0m: name 'biggraph' is not defined"
     ]
    }
   ],
   "source": [
    "littlegraph = littlegraph.append(pd.DataFrame([['Genomic Instability', 'Mitochondrial Mutations', 1]], columns=littleggraph.columns))"
   ]
  },
  {
   "cell_type": "code",
   "execution_count": null,
   "metadata": {},
   "outputs": [],
   "source": [
    "littlegraph = littlegraph.append(pd.DataFrame([['Genomic Instability', 'Stem Cell Exhaustion', 1]], columns=littlegraph.columns))"
   ]
  },
  {
   "cell_type": "code",
   "execution_count": null,
   "metadata": {},
   "outputs": [],
   "source": [
    "littlegraph = littlegraph.append(pd.DataFrame([['Cellular Senescence', 'Altered Intercellular Communication', 1]], columns=littlegraph.columns))"
   ]
  },
  {
   "cell_type": "code",
   "execution_count": null,
   "metadata": {},
   "outputs": [],
   "source": [
    "littlegraph = littlegraph.append(pd.DataFrame([['Cellular Senescence', 'Mitochondrial Mutations', 1]], columns=littlegraph.columns))"
   ]
  },
  {
   "cell_type": "code",
   "execution_count": null,
   "metadata": {},
   "outputs": [],
   "source": [
    "littlegraph = littlegraph.append(pd.DataFrame([['Cellular Senescence', 'Genomic Instability', 1]], columns=littlegraph.columns))"
   ]
  },
  {
   "cell_type": "code",
   "execution_count": null,
   "metadata": {},
   "outputs": [],
   "source": [
    "littlegraph = littlegraph.append(pd.DataFrame([['Cellular Senescence', 'Loss of Proteostasis', 1]], columns=littlegraph.columns))"
   ]
  },
  {
   "cell_type": "code",
   "execution_count": null,
   "metadata": {},
   "outputs": [],
   "source": [
    "littlegraph = littlegraph.append(pd.DataFrame([['Cellular Senescence', 'Dysregulated Nutrient Sensing', 1]], columns=littlegraph.columns))"
   ]
  },
  {
   "cell_type": "code",
   "execution_count": null,
   "metadata": {},
   "outputs": [],
   "source": [
    "littlegraph = littlegraph.append(pd.DataFrame([['Cellular Senescence', 'Stem Cell Exhaustion', 1]], columns=biggraph.columns))"
   ]
  },
  {
   "cell_type": "code",
   "execution_count": null,
   "metadata": {},
   "outputs": [],
   "source": [
    "littlegraph = littlegraph.append(pd.DataFrame([['Cellular Senescence', 'Telomere Attrition', 1]], columns=biggraph.columns))"
   ]
  },
  {
   "cell_type": "code",
   "execution_count": null,
   "metadata": {},
   "outputs": [],
   "source": [
    "littlegraph = littlegraph.append(pd.DataFrame([['Genomic Instability', 'Mitochondrial Mutations', 1]], columns=biggraph.columns))"
   ]
  },
  {
   "cell_type": "code",
   "execution_count": null,
   "metadata": {},
   "outputs": [],
   "source": [
    "littlegraph.to_csv('littlegraph.csv')"
   ]
  }
 ],
 "metadata": {
  "kernelspec": {
   "display_name": "Python 3",
   "language": "python",
   "name": "python3"
  },
  "language_info": {
   "codemirror_mode": {
    "name": "ipython",
    "version": 3
   },
   "file_extension": ".py",
   "mimetype": "text/x-python",
   "name": "python",
   "nbconvert_exporter": "python",
   "pygments_lexer": "ipython3",
   "version": "3.6.4"
  }
 },
 "nbformat": 4,
 "nbformat_minor": 2
}
