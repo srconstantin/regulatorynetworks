{
 "cells": [
  {
   "cell_type": "code",
   "execution_count": 1,
   "metadata": {},
   "outputs": [],
   "source": [
    "import pandas as pd\n"
   ]
  },
  {
   "cell_type": "code",
   "execution_count": 2,
   "metadata": {},
   "outputs": [],
   "source": [
    "biggraph = pd.DataFrame(columns=['First', 'Second', 'Direction', 'Citation'])"
   ]
  },
  {
   "cell_type": "code",
   "execution_count": 3,
   "metadata": {},
   "outputs": [
    {
     "data": {
      "text/html": [
       "<div>\n",
       "<style scoped>\n",
       "    .dataframe tbody tr th:only-of-type {\n",
       "        vertical-align: middle;\n",
       "    }\n",
       "\n",
       "    .dataframe tbody tr th {\n",
       "        vertical-align: top;\n",
       "    }\n",
       "\n",
       "    .dataframe thead th {\n",
       "        text-align: right;\n",
       "    }\n",
       "</style>\n",
       "<table border=\"1\" class=\"dataframe\">\n",
       "  <thead>\n",
       "    <tr style=\"text-align: right;\">\n",
       "      <th></th>\n",
       "      <th>First</th>\n",
       "      <th>Second</th>\n",
       "      <th>Direction</th>\n",
       "      <th>Citation</th>\n",
       "    </tr>\n",
       "  </thead>\n",
       "  <tbody>\n",
       "  </tbody>\n",
       "</table>\n",
       "</div>"
      ],
      "text/plain": [
       "Empty DataFrame\n",
       "Columns: [First, Second, Direction, Citation]\n",
       "Index: []"
      ]
     },
     "execution_count": 3,
     "metadata": {},
     "output_type": "execute_result"
    }
   ],
   "source": [
    "biggraph"
   ]
  },
  {
   "cell_type": "code",
   "execution_count": 4,
   "metadata": {},
   "outputs": [],
   "source": [
    "biggraph = biggraph.append(pd.DataFrame([['H4K16ac', 'Epigenetic Alteration', 1, 'http://www.cell.com/cell/pdf/S0092-8674(13)00645-4.pdf']], columns=biggraph.columns))"
   ]
  },
  {
   "cell_type": "code",
   "execution_count": 5,
   "metadata": {},
   "outputs": [],
   "source": [
    "biggraph = biggraph.append(pd.DataFrame([['H4K20me3', 'Epigenetic Alteration', 1, 'http://www.cell.com/cell/pdf/S0092-8674(13)00645-4.pdf']], columns=biggraph.columns))"
   ]
  },
  {
   "cell_type": "code",
   "execution_count": 6,
   "metadata": {},
   "outputs": [],
   "source": [
    "biggraph = biggraph.append(pd.DataFrame([['H3K4me3', 'Epigenetic Alteration', 1, 'http://www.cell.com/cell/pdf/S0092-8674(13)00645-4.pdf']], columns=biggraph.columns))"
   ]
  },
  {
   "cell_type": "code",
   "execution_count": 7,
   "metadata": {},
   "outputs": [],
   "source": [
    "biggraph = biggraph.append(pd.DataFrame([['H3K9me', 'Epigenetic Alteration', -1, 'http://www.cell.com/cell/pdf/S0092-8674(13)00645-4.pdf']], columns=biggraph.columns))"
   ]
  },
  {
   "cell_type": "code",
   "execution_count": 8,
   "metadata": {},
   "outputs": [],
   "source": [
    "biggraph = biggraph.append(pd.DataFrame([['H3K27me3', 'Epigenetic Alteration', -1, 'http://www.cell.com/cell/pdf/S0092-8674(13)00645-4.pdf']], columns=biggraph.columns))"
   ]
  },
  {
   "cell_type": "code",
   "execution_count": 9,
   "metadata": {},
   "outputs": [],
   "source": [
    "biggraph = biggraph.append(pd.DataFrame([['HP1a', 'Epigenetic Alteration', -1, 'http://www.cell.com/cell/pdf/S0092-8674(13)00645-4.pdf']], columns=biggraph.columns))"
   ]
  },
  {
   "cell_type": "code",
   "execution_count": 10,
   "metadata": {},
   "outputs": [],
   "source": [
    "biggraph = biggraph.append(pd.DataFrame([['NuRD', 'Epigenetic Alteration', -1, 'http://www.cell.com/cell/pdf/S0092-8674(13)00645-4.pdf']], columns=biggraph.columns))"
   ]
  },
  {
   "cell_type": "code",
   "execution_count": 11,
   "metadata": {},
   "outputs": [],
   "source": [
    "biggraph = biggraph.append(pd.DataFrame([['LMNA', 'Genomic Instability', -1, 'http://www.cell.com/cell/pdf/S0092-8674(13)00645-4.pdf']], columns=biggraph.columns))"
   ]
  },
  {
   "cell_type": "code",
   "execution_count": 12,
   "metadata": {},
   "outputs": [],
   "source": [
    "biggraph = biggraph.append(pd.DataFrame([['Genomic Instability', 'mtDNA', -1, 'http://www.cell.com/cell/pdf/S0092-8674(13)00645-4.pdf']], columns=biggraph.columns))"
   ]
  },
  {
   "cell_type": "code",
   "execution_count": 13,
   "metadata": {},
   "outputs": [],
   "source": [
    "biggraph = biggraph.append(pd.DataFrame([['Shelterin', 'Telomere Attrition', 1, 'http://www.cell.com/cell/pdf/S0092-8674(13)00645-4.pdf']], columns=biggraph.columns))"
   ]
  },
  {
   "cell_type": "code",
   "execution_count": 14,
   "metadata": {},
   "outputs": [],
   "source": [
    "biggraph = biggraph.append(pd.DataFrame([['HSF1', 'Loss of Proteostasis', -1, 'http://www.cell.com/cell/pdf/S0092-8674(13)00645-4.pdf']], columns=biggraph.columns))"
   ]
  },
  {
   "cell_type": "code",
   "execution_count": 15,
   "metadata": {},
   "outputs": [],
   "source": [
    "biggraph = biggraph.append(pd.DataFrame([['LMNA', 'p53', -1, 'http://www.cell.com/cell/pdf/S0092-8674(13)00645-4.pdf']], columns=biggraph.columns))"
   ]
  },
  {
   "cell_type": "code",
   "execution_count": 16,
   "metadata": {},
   "outputs": [],
   "source": [
    "biggraph = biggraph.append(pd.DataFrame([['SIRT6', 'HK39 deacetylation', 1, 'http://www.cell.com/cell/pdf/S0092-8674(13)00645-4.pdf']], columns=biggraph.columns))"
   ]
  },
  {
   "cell_type": "code",
   "execution_count": 17,
   "metadata": {},
   "outputs": [],
   "source": [
    "biggraph = biggraph.append(pd.DataFrame([['SIRT6', 'IGF-1', -1, 'http://www.cell.com/cell/pdf/S0092-8674(13)00645-4.pdf']], columns=biggraph.columns))"
   ]
  },
  {
   "cell_type": "code",
   "execution_count": 18,
   "metadata": {},
   "outputs": [],
   "source": [
    "biggraph = biggraph.append(pd.DataFrame([['SIRT1', 'Hsp7', 1, 'http://www.cell.com/cell/pdf/S0092-8674(13)00645-4.pdf']], columns=biggraph.columns))"
   ]
  },
  {
   "cell_type": "code",
   "execution_count": 19,
   "metadata": {},
   "outputs": [],
   "source": [
    "biggraph = biggraph.append(pd.DataFrame([['Hsp7', 'Autophagy', 1, 'http://www.cell.com/cell/pdf/S0092-8674(13)00645-4.pdf']], columns=biggraph.columns))"
   ]
  },
  {
   "cell_type": "code",
   "execution_count": 20,
   "metadata": {},
   "outputs": [],
   "source": [
    "biggraph = biggraph.append(pd.DataFrame([['LAMP2a', 'Autophagy', 1, 'http://www.cell.com/cell/pdf/S0092-8674(13)00645-4.pdf']], columns=biggraph.columns))"
   ]
  },
  {
   "cell_type": "code",
   "execution_count": 21,
   "metadata": {},
   "outputs": [],
   "source": [
    "biggraph = biggraph.append(pd.DataFrame([['mTOR', 'Autophagy', -1, 'http://www.cell.com/cell/pdf/S0092-8674(13)00645-4.pdf']], columns=biggraph.columns))"
   ]
  },
  {
   "cell_type": "code",
   "execution_count": 22,
   "metadata": {},
   "outputs": [],
   "source": [
    "biggraph = biggraph.append(pd.DataFrame([['Autophagy', 'Loss of Proteostasis', -1, 'http://www.cell.com/cell/pdf/S0092-8674(13)00645-4.pdf']], columns=biggraph.columns))"
   ]
  },
  {
   "cell_type": "code",
   "execution_count": 23,
   "metadata": {},
   "outputs": [],
   "source": [
    "biggraph = biggraph.append(pd.DataFrame([['GH', 'IGF-1', 1, 'http://www.cell.com/cell/pdf/S0092-8674(13)00645-4.pdf']], columns=biggraph.columns))"
   ]
  },
  {
   "cell_type": "code",
   "execution_count": 24,
   "metadata": {},
   "outputs": [],
   "source": [
    "biggraph = biggraph.append(pd.DataFrame([['IGF-1', 'PI3K', 1, 'http://www.cell.com/cell/pdf/S0092-8674(13)00645-4.pdf']], columns=biggraph.columns))"
   ]
  },
  {
   "cell_type": "code",
   "execution_count": 25,
   "metadata": {},
   "outputs": [],
   "source": [
    "biggraph = biggraph.append(pd.DataFrame([['PTEN', 'PI3K', -1, 'http://www.cell.com/cell/pdf/S0092-8674(13)00645-4.pdf']], columns=biggraph.columns))"
   ]
  },
  {
   "cell_type": "code",
   "execution_count": 26,
   "metadata": {},
   "outputs": [],
   "source": [
    "biggraph = biggraph.append(pd.DataFrame([['PI3K', 'Akt', 1, 'http://www.cell.com/cell/pdf/S0092-8674(13)00645-4.pdf']], columns=biggraph.columns))"
   ]
  },
  {
   "cell_type": "code",
   "execution_count": 27,
   "metadata": {},
   "outputs": [],
   "source": [
    "biggraph = biggraph.append(pd.DataFrame([['Akt', 'mTOR', 1, 'http://www.cell.com/cell/pdf/S0092-8674(13)00645-4.pdf']], columns=biggraph.columns))"
   ]
  },
  {
   "cell_type": "code",
   "execution_count": 28,
   "metadata": {},
   "outputs": [],
   "source": [
    "biggraph = biggraph.append(pd.DataFrame([['mTOR', 'Dysregulated Nutrient Sensing', -1, 'http://www.cell.com/cell/pdf/S0092-8674(13)00645-4.pdf']], columns=biggraph.columns))"
   ]
  },
  {
   "cell_type": "code",
   "execution_count": 29,
   "metadata": {},
   "outputs": [],
   "source": [
    "biggraph = biggraph.append(pd.DataFrame([['Akt', 'FOXO1', -1, 'http://www.cell.com/cell/pdf/S0092-8674(13)00645-4.pdf']], columns=biggraph.columns))"
   ]
  },
  {
   "cell_type": "code",
   "execution_count": 30,
   "metadata": {},
   "outputs": [],
   "source": [
    "biggraph = biggraph.append(pd.DataFrame([['FOXO1', 'Dysregulated Nutrient Sensing', -1, 'http://www.cell.com/cell/pdf/S0092-8674(13)00645-4.pdf']], columns=biggraph.columns))"
   ]
  },
  {
   "cell_type": "code",
   "execution_count": 31,
   "metadata": {},
   "outputs": [],
   "source": [
    "biggraph = biggraph.append(pd.DataFrame([['AMPK', 'SIRT1', 1, 'http://www.cell.com/cell/pdf/S0092-8674(13)00645-4.pdf']], columns=biggraph.columns))"
   ]
  },
  {
   "cell_type": "code",
   "execution_count": 32,
   "metadata": {},
   "outputs": [],
   "source": [
    "biggraph = biggraph.append(pd.DataFrame([['SIRT1', 'AMPK', 1, 'http://www.cell.com/cell/pdf/S0092-8674(13)00645-4.pdf']], columns=biggraph.columns))"
   ]
  },
  {
   "cell_type": "code",
   "execution_count": 33,
   "metadata": {},
   "outputs": [],
   "source": [
    "biggraph = biggraph.append(pd.DataFrame([['AMPK', 'mTOR', -1, 'http://www.cell.com/cell/pdf/S0092-8674(13)00645-4.pdf']], columns=biggraph.columns))"
   ]
  },
  {
   "cell_type": "code",
   "execution_count": 34,
   "metadata": {},
   "outputs": [],
   "source": [
    "biggraph = biggraph.append(pd.DataFrame([['SIRT1', 'PCG1a', 1, 'http://www.cell.com/cell/pdf/S0092-8674(13)00645-4.pdf']], columns=biggraph.columns))"
   ]
  },
  {
   "cell_type": "code",
   "execution_count": 35,
   "metadata": {},
   "outputs": [],
   "source": [
    "biggraph = biggraph.append(pd.DataFrame([['NFkB', 'GnRH', -1, 'http://www.cell.com/cell/pdf/S0092-8674(13)00645-4.pdf']], columns=biggraph.columns))"
   ]
  },
  {
   "cell_type": "code",
   "execution_count": 36,
   "metadata": {},
   "outputs": [],
   "source": [
    "biggraph = biggraph.append(pd.DataFrame([['NFkB', 'IFN-a', 1, 'http://www.cell.com/cell/pdf/S0092-8674(13)00645-4.pdf']], columns=biggraph.columns))"
   ]
  },
  {
   "cell_type": "code",
   "execution_count": 37,
   "metadata": {},
   "outputs": [],
   "source": [
    "biggraph = biggraph.append(pd.DataFrame([['NFkB', 'TNF-a', 1, 'http://www.cell.com/cell/pdf/S0092-8674(13)00645-4.pdf']], columns=biggraph.columns))"
   ]
  },
  {
   "cell_type": "code",
   "execution_count": 38,
   "metadata": {},
   "outputs": [],
   "source": [
    "biggraph = biggraph.append(pd.DataFrame([['NFkB', 'IL-1b', 1, 'http://www.cell.com/cell/pdf/S0092-8674(13)00645-4.pdf']], columns=biggraph.columns))"
   ]
  },
  {
   "cell_type": "code",
   "execution_count": 39,
   "metadata": {},
   "outputs": [],
   "source": [
    "biggraph = biggraph.append(pd.DataFrame([['NFkB', 'IL-2', 1, 'http://www.cell.com/cell/pdf/S0092-8674(13)00645-4.pdf']], columns=biggraph.columns))"
   ]
  },
  {
   "cell_type": "code",
   "execution_count": 40,
   "metadata": {},
   "outputs": [],
   "source": [
    "biggraph = biggraph.append(pd.DataFrame([['SIRT1', 'NFkB', -1, 'http://www.cell.com/cell/pdf/S0092-8674(13)00645-4.pdf']], columns=biggraph.columns))"
   ]
  },
  {
   "cell_type": "code",
   "execution_count": 41,
   "metadata": {},
   "outputs": [],
   "source": [
    "biggraph = biggraph.append(pd.DataFrame([['NR', 'NAD+', 1, 'https://doi.org/10.1016/j.cell.2013.06.016']], columns=biggraph.columns))"
   ]
  },
  {
   "cell_type": "code",
   "execution_count": 42,
   "metadata": {},
   "outputs": [],
   "source": [
    "biggraph = biggraph.append(pd.DataFrame([['NMN', 'NAD+', 1, 'https://doi.org/10.1016/j.cell.2013.06.016']], columns=biggraph.columns))"
   ]
  },
  {
   "cell_type": "code",
   "execution_count": 43,
   "metadata": {},
   "outputs": [],
   "source": [
    "biggraph = biggraph.append(pd.DataFrame([['NAD+', 'SIRT1', 1, 'https://doi.org/10.1016/j.cell.2013.06.016']], columns=biggraph.columns))"
   ]
  },
  {
   "cell_type": "code",
   "execution_count": 44,
   "metadata": {},
   "outputs": [],
   "source": [
    "biggraph = biggraph.append(pd.DataFrame([['CD38', 'NAD+', -1, 'https://doi.org/10.1016/j.cell.2013.06.016']], columns=biggraph.columns))"
   ]
  },
  {
   "cell_type": "code",
   "execution_count": 45,
   "metadata": {},
   "outputs": [],
   "source": [
    "biggraph = biggraph.append(pd.DataFrame([['PARP1', 'NAD+', -1, 'https://doi.org/10.1016/j.cell.2013.06.016']], columns=biggraph.columns))"
   ]
  },
  {
   "cell_type": "code",
   "execution_count": 46,
   "metadata": {},
   "outputs": [],
   "source": [
    "biggraph = biggraph.append(pd.DataFrame([['NAD+', 'Mitochondrial Dysfunction', -1, 'https://doi.org/10.1016/j.cell.2013.06.016']], columns=biggraph.columns))"
   ]
  },
  {
   "cell_type": "code",
   "execution_count": 47,
   "metadata": {},
   "outputs": [],
   "source": [
    "biggraph = biggraph.append(pd.DataFrame([['NAD+', 'Hsp60', 1, 'https://doi.org/10.1016/j.cell.2013.06.016']], columns=biggraph.columns))"
   ]
  },
  {
   "cell_type": "code",
   "execution_count": 48,
   "metadata": {},
   "outputs": [],
   "source": [
    "biggraph = biggraph.append(pd.DataFrame([['NAD+', 'SOD2', 1, 'https://doi.org/10.1016/j.cell.2013.06.016']], columns=biggraph.columns))"
   ]
  },
  {
   "cell_type": "code",
   "execution_count": 49,
   "metadata": {},
   "outputs": [],
   "source": [
    "biggraph = biggraph.append(pd.DataFrame([['TNF-a', 'NAD+', -1, 'https://www.ncbi.nlm.nih.gov/pmc/articles/PMC4112140/']], columns=biggraph.columns))"
   ]
  },
  {
   "cell_type": "code",
   "execution_count": 50,
   "metadata": {},
   "outputs": [],
   "source": [
    "biggraph = biggraph.append(pd.DataFrame([['CLOCK', 'NAD+', 1, 'https://www.ncbi.nlm.nih.gov/pmc/articles/PMC4112140/']], columns=biggraph.columns))"
   ]
  },
  {
   "cell_type": "code",
   "execution_count": 51,
   "metadata": {},
   "outputs": [],
   "source": [
    "biggraph = biggraph.append(pd.DataFrame([['BMAL1', 'NAD+', 1, 'https://www.ncbi.nlm.nih.gov/pmc/articles/PMC4112140/']], columns=biggraph.columns))"
   ]
  },
  {
   "cell_type": "code",
   "execution_count": 52,
   "metadata": {},
   "outputs": [],
   "source": [
    "biggraph = biggraph.append(pd.DataFrame([['SIRT1', 'HIF-1a', -1, 'https://www.ncbi.nlm.nih.gov/pmc/articles/PMC4112140/']], columns=biggraph.columns))"
   ]
  },
  {
   "cell_type": "code",
   "execution_count": 53,
   "metadata": {},
   "outputs": [],
   "source": [
    "biggraph = biggraph.append(pd.DataFrame([['SIRT1', 'mtDNA', 1, 'https://www.sciencedirect.com/science/article/pii/S0092867413015213']], columns=biggraph.columns))"
   ]
  },
  {
   "cell_type": "code",
   "execution_count": 54,
   "metadata": {},
   "outputs": [],
   "source": [
    "biggraph = biggraph.append(pd.DataFrame([['cMYC', 'mtDNA', 1, 'https://www.sciencedirect.com/science/article/pii/S0092867413015213']], columns=biggraph.columns))"
   ]
  },
  {
   "cell_type": "code",
   "execution_count": 55,
   "metadata": {},
   "outputs": [],
   "source": [
    "biggraph = biggraph.append(pd.DataFrame([['mtDNA', 'Mitochondrial Dysfunction', -1, 'http://www.cell.com/cell/pdf/S0092-8674(13)00645-4.pdf']], columns=biggraph.columns))"
   ]
  },
  {
   "cell_type": "code",
   "execution_count": 56,
   "metadata": {},
   "outputs": [],
   "source": [
    "biggraph = biggraph.append(pd.DataFrame([['NAD+', 'lactate', -1, 'https://www.sciencedirect.com/science/article/pii/S1550413114004628']], columns=biggraph.columns))"
   ]
  },
  {
   "cell_type": "code",
   "execution_count": 57,
   "metadata": {},
   "outputs": [],
   "source": [
    "biggraph = biggraph.append(pd.DataFrame([['lactate', 'Acetyl-CoA', -1, 'https://www.sciencedirect.com/science/article/pii/S1550413114004628']], columns=biggraph.columns))"
   ]
  },
  {
   "cell_type": "code",
   "execution_count": 58,
   "metadata": {},
   "outputs": [],
   "source": [
    "biggraph = biggraph.append(pd.DataFrame([['Acetyl-CoA', 'PCAF', 1, 'https://www.sciencedirect.com/science/article/pii/S1550413114004628']], columns=biggraph.columns))"
   ]
  },
  {
   "cell_type": "code",
   "execution_count": 59,
   "metadata": {},
   "outputs": [],
   "source": [
    "biggraph = biggraph.append(pd.DataFrame([['PCAF', 'SIRT1', 1, 'https://www.sciencedirect.com/science/article/pii/S1550413114004628']], columns=biggraph.columns))"
   ]
  },
  {
   "cell_type": "code",
   "execution_count": 60,
   "metadata": {},
   "outputs": [],
   "source": [
    "biggraph = biggraph.append(pd.DataFrame([['SIRT1', 'PRDM13', 1, 'https://www.nature.com/articles/npjamd201617']], columns=biggraph.columns))"
   ]
  },
  {
   "cell_type": "code",
   "execution_count": 61,
   "metadata": {},
   "outputs": [],
   "source": [
    "biggraph = biggraph.append(pd.DataFrame([['PRDM13', 'NAD+', 1, 'https://www.nature.com/articles/npjamd201617']], columns=biggraph.columns))"
   ]
  },
  {
   "cell_type": "code",
   "execution_count": 62,
   "metadata": {},
   "outputs": [],
   "source": [
    "biggraph = biggraph.append(pd.DataFrame([['SIRT1', 'NAMPT', 1, 'https://www.nature.com/articles/npjamd201617']], columns=biggraph.columns))"
   ]
  },
  {
   "cell_type": "code",
   "execution_count": 63,
   "metadata": {},
   "outputs": [],
   "source": [
    "biggraph = biggraph.append(pd.DataFrame([['NAMPT', 'NMN', 1, 'https://www.nature.com/articles/npjamd201617']], columns=biggraph.columns))"
   ]
  },
  {
   "cell_type": "code",
   "execution_count": 64,
   "metadata": {},
   "outputs": [],
   "source": [
    "biggraph = biggraph.append(pd.DataFrame([['SIRT1', 'FOXO1', 1, 'https://www.nature.com/articles/npjamd201617']], columns=biggraph.columns))"
   ]
  },
  {
   "cell_type": "code",
   "execution_count": 65,
   "metadata": {},
   "outputs": [],
   "source": [
    "biggraph = biggraph.append(pd.DataFrame([['NAD+', 'Neural stem cells', 1, 'https://www.ncbi.nlm.nih.gov/pmc/articles/PMC4194118/']], columns=biggraph.columns))"
   ]
  },
  {
   "cell_type": "code",
   "execution_count": 66,
   "metadata": {},
   "outputs": [],
   "source": [
    "biggraph = biggraph.append(pd.DataFrame([['Neural stem cells', 'Stem Cell Exhaustion', -1, 'http://www.cell.com/cell/pdf/S0092-8674(13)00645-4.pdf']], columns=biggraph.columns))"
   ]
  },
  {
   "cell_type": "code",
   "execution_count": 67,
   "metadata": {},
   "outputs": [],
   "source": [
    "biggraph = biggraph.append(pd.DataFrame([['SIRT1', 'UCP2', -1, 'https://www.ncbi.nlm.nih.gov/pmc/articles/PMC2734380/']], columns=biggraph.columns))"
   ]
  },
  {
   "cell_type": "code",
   "execution_count": 68,
   "metadata": {},
   "outputs": [],
   "source": [
    "biggraph = biggraph.append(pd.DataFrame([['UCP2', 'Insulin', -1, 'https://www.ncbi.nlm.nih.gov/pmc/articles/PMC2734380/']], columns=biggraph.columns))"
   ]
  },
  {
   "cell_type": "code",
   "execution_count": 69,
   "metadata": {},
   "outputs": [],
   "source": [
    "biggraph = biggraph.append(pd.DataFrame([['Adiponectin', 'AMPK', 1, 'http://diabetes.diabetesjournals.org/content/61/6/1315.long']], columns=biggraph.columns))"
   ]
  },
  {
   "cell_type": "code",
   "execution_count": 70,
   "metadata": {},
   "outputs": [],
   "source": [
    "biggraph = biggraph.append(pd.DataFrame([['IL-6', 'NFkB', -1, 'https://www.ncbi.nlm.nih.gov/pmc/articles/PMC2734380/']], columns=biggraph.columns))"
   ]
  },
  {
   "cell_type": "code",
   "execution_count": 71,
   "metadata": {},
   "outputs": [],
   "source": [
    "biggraph = biggraph.append(pd.DataFrame([['Leptin', 'NFkB', -1, 'https://www.ncbi.nlm.nih.gov/pmc/articles/PMC2734380/']], columns=biggraph.columns))"
   ]
  },
  {
   "cell_type": "code",
   "execution_count": 72,
   "metadata": {},
   "outputs": [],
   "source": [
    "biggraph = biggraph.append(pd.DataFrame([['NFkB', 'Altered Intercellular Communication', 1, 'http://www.cell.com/cell/pdf/S0092-8674(13)00645-4.pdf']], columns=biggraph.columns))"
   ]
  },
  {
   "cell_type": "code",
   "execution_count": 73,
   "metadata": {},
   "outputs": [],
   "source": [
    "biggraph = biggraph.append(pd.DataFrame([['IL-6', 'Altered Intercellular Communication', 1, 'http://www.cell.com/cell/pdf/S0092-8674(13)00645-4.pdf']], columns=biggraph.columns))"
   ]
  },
  {
   "cell_type": "code",
   "execution_count": 74,
   "metadata": {},
   "outputs": [],
   "source": [
    "biggraph = biggraph.append(pd.DataFrame([['TNF-a', 'Altered Intercellular Communication', 1, 'http://www.cell.com/cell/pdf/S0092-8674(13)00645-4.pdf']], columns=biggraph.columns))"
   ]
  },
  {
   "cell_type": "code",
   "execution_count": 75,
   "metadata": {},
   "outputs": [],
   "source": [
    "biggraph = biggraph.append(pd.DataFrame([['IL-1b', 'Altered Intercellular Communication', 1, 'http://www.cell.com/cell/pdf/S0092-8674(13)00645-4.pdf']], columns=biggraph.columns))"
   ]
  },
  {
   "cell_type": "code",
   "execution_count": 76,
   "metadata": {},
   "outputs": [],
   "source": [
    "biggraph = biggraph.append(pd.DataFrame([['IFN-a', 'Altered Intercellular Communication', 1, 'http://www.cell.com/cell/pdf/S0092-8674(13)00645-4.pdf']], columns=biggraph.columns))"
   ]
  },
  {
   "cell_type": "code",
   "execution_count": 77,
   "metadata": {},
   "outputs": [],
   "source": [
    "biggraph = biggraph.append(pd.DataFrame([['SIRT1', 'p53', -1, 'https://www.ncbi.nlm.nih.gov/pmc/articles/PMC2734380/']], columns=biggraph.columns))"
   ]
  },
  {
   "cell_type": "code",
   "execution_count": 78,
   "metadata": {},
   "outputs": [],
   "source": [
    "biggraph = biggraph.append(pd.DataFrame([['p53', 'Cellular Senescence', 1, 'http://www.cell.com/cell/pdf/S0092-8674(13)00645-4.pdf']], columns=biggraph.columns))"
   ]
  },
  {
   "cell_type": "code",
   "execution_count": 79,
   "metadata": {},
   "outputs": [],
   "source": [
    "biggraph = biggraph.append(pd.DataFrame([['Superoxide', 'PARP1', -1, 'https://www.ncbi.nlm.nih.gov/pmc/articles/PMC2734380/']], columns=biggraph.columns))"
   ]
  },
  {
   "cell_type": "code",
   "execution_count": 80,
   "metadata": {},
   "outputs": [],
   "source": [
    "biggraph = biggraph.append(pd.DataFrame([['Superoxide', 'TNF-a', 1, 'https://www.nature.com/articles/nrd796']], columns=biggraph.columns))"
   ]
  },
  {
   "cell_type": "code",
   "execution_count": 81,
   "metadata": {},
   "outputs": [],
   "source": [
    "biggraph = biggraph.append(pd.DataFrame([['Superoxide', 'IL-1b', 1, 'https://www.nature.com/articles/nrd796']], columns=biggraph.columns))"
   ]
  },
  {
   "cell_type": "code",
   "execution_count": 82,
   "metadata": {},
   "outputs": [],
   "source": [
    "biggraph = biggraph.append(pd.DataFrame([['AMPK', 'UCP2', 1, 'https://www.sciencedirect.com/science/article/pii/S016701151100173X']], columns=biggraph.columns))"
   ]
  },
  {
   "cell_type": "code",
   "execution_count": 83,
   "metadata": {},
   "outputs": [],
   "source": [
    "biggraph = biggraph.append(pd.DataFrame([['AMPK', 'mtDNA', 1, 'https://www.nature.com/articles/ncomms4563']], columns=biggraph.columns))"
   ]
  },
  {
   "cell_type": "code",
   "execution_count": 84,
   "metadata": {},
   "outputs": [],
   "source": [
    "biggraph = biggraph.append(pd.DataFrame([['Melatonin', 'GH', -1, 'https://www.nature.com/articles/244230a0']], columns=biggraph.columns))"
   ]
  },
  {
   "cell_type": "code",
   "execution_count": 85,
   "metadata": {},
   "outputs": [],
   "source": [
    "biggraph = biggraph.append(pd.DataFrame([['Norepinephrine', 'IL-2', 1, 'https://www.sciencedirect.com/science/article/pii/S0047637401003906']], columns=biggraph.columns))"
   ]
  },
  {
   "cell_type": "code",
   "execution_count": 86,
   "metadata": {},
   "outputs": [],
   "source": [
    "biggraph = biggraph.append(pd.DataFrame([['NGF', 'SOD2', 1, 'https://www.ncbi.nlm.nih.gov/pubmed/9671980']], columns=biggraph.columns))"
   ]
  },
  {
   "cell_type": "code",
   "execution_count": 87,
   "metadata": {},
   "outputs": [],
   "source": [
    "biggraph = biggraph.append(pd.DataFrame([['PARP1', 'NFkB', 1, 'https://www.ncbi.nlm.nih.gov/pmc/articles/PMC2806023/']], columns=biggraph.columns))"
   ]
  },
  {
   "cell_type": "code",
   "execution_count": 88,
   "metadata": {},
   "outputs": [],
   "source": [
    "biggraph = biggraph.append(pd.DataFrame([['TRL4', 'NFkB', 1, 'https://www.physiology.org/doi/full/10.1152/japplphysiol.90470.2008']], columns=biggraph.columns))"
   ]
  },
  {
   "cell_type": "code",
   "execution_count": 89,
   "metadata": {},
   "outputs": [],
   "source": [
    "biggraph =biggraph.append(pd.DataFrame([['NO', 'NFkB', -1, 'https://www.physiology.org/doi/full/10.1152/japplphysiol.90470.2008']], columns=biggraph.columns))"
   ]
  },
  {
   "cell_type": "code",
   "execution_count": 90,
   "metadata": {},
   "outputs": [],
   "source": [
    "biggraph =biggraph.append(pd.DataFrame([['AMPK', 'ULK1', -1, 'https://www.ncbi.nlm.nih.gov/pmc/articles/PMC3405151/']], columns=biggraph.columns))"
   ]
  },
  {
   "cell_type": "code",
   "execution_count": 91,
   "metadata": {},
   "outputs": [],
   "source": [
    "biggraph =biggraph.append(pd.DataFrame([['ULK1', 'Autophagy', -1, 'https://www.ncbi.nlm.nih.gov/pmc/articles/PMC3405151/']], columns=biggraph.columns))"
   ]
  },
  {
   "cell_type": "code",
   "execution_count": 92,
   "metadata": {},
   "outputs": [],
   "source": [
    "biggraph =biggraph.append(pd.DataFrame([['Cellular Senescence', 'IL-6', 1, 'https://www.ncbi.nlm.nih.gov/pmc/articles/PMC2879478/?_escaped_fragment_=po=15.0000']], columns=biggraph.columns))"
   ]
  },
  {
   "cell_type": "code",
   "execution_count": 93,
   "metadata": {},
   "outputs": [],
   "source": [
    "biggraph =biggraph.append(pd.DataFrame([['Cellular Senescence', 'IL-1a', 1, 'https://www.ncbi.nlm.nih.gov/pmc/articles/PMC2879478/?_escaped_fragment_=po=15.0000']], columns=biggraph.columns))"
   ]
  },
  {
   "cell_type": "code",
   "execution_count": 94,
   "metadata": {},
   "outputs": [],
   "source": [
    "biggraph =biggraph.append(pd.DataFrame([['Cellular Senescence', 'GM-CSF', 1, 'https://www.ncbi.nlm.nih.gov/pmc/articles/PMC2879478/?_escaped_fragment_=po=15.0000']], columns=biggraph.columns))"
   ]
  },
  {
   "cell_type": "code",
   "execution_count": 95,
   "metadata": {},
   "outputs": [],
   "source": [
    "biggraph =biggraph.append(pd.DataFrame([['HSP90', 'Akt', 1, 'https://www.nature.com/articles/s41467-017-00314-z']], columns=biggraph.columns))"
   ]
  },
  {
   "cell_type": "code",
   "execution_count": 96,
   "metadata": {},
   "outputs": [],
   "source": [
    "biggraph =biggraph.append(pd.DataFrame([['Akt', 'Cellular Senescence', 1, 'https://www.nature.com/articles/s41467-017-00314-z']], columns=biggraph.columns))"
   ]
  },
  {
   "cell_type": "code",
   "execution_count": 97,
   "metadata": {},
   "outputs": [],
   "source": [
    "biggraph =biggraph.append(pd.DataFrame([['Loss of Proteostasis', 'Extracellular Junk', 1, 'http://www.sens.org/research/introduction-to-sens-research/extracellular-junk']], columns=biggraph.columns))"
   ]
  },
  {
   "cell_type": "code",
   "execution_count": 98,
   "metadata": {},
   "outputs": [],
   "source": [
    "biggraph =biggraph.append(pd.DataFrame([['Loss of Proteostasis', 'Intracellular Junk', 1, 'http://www.sens.org/research/introduction-to-sens-research/intracellular-junk']], columns=biggraph.columns))"
   ]
  },
  {
   "cell_type": "code",
   "execution_count": 99,
   "metadata": {},
   "outputs": [],
   "source": [
    "biggraph =biggraph.append(pd.DataFrame([['Dysregulated Nutrient Sensing', 'Extracellular Crosslinks', 1, 'http://www.sens.org/research/introduction-to-sens-research/extracellular-crosslinks']], columns=biggraph.columns))"
   ]
  },
  {
   "cell_type": "code",
   "execution_count": 100,
   "metadata": {},
   "outputs": [],
   "source": [
    "biggraph =biggraph.append(pd.DataFrame([['Stem Cell Exhaustion', 'Cell Loss and Atrophy', 1, 'http://www.sens.org/research/introduction-to-sens-research/cell-loss-and-atrophy']], columns=biggraph.columns))"
   ]
  },
  {
   "cell_type": "code",
   "execution_count": 101,
   "metadata": {},
   "outputs": [],
   "source": [
    "biggraph =biggraph.append(pd.DataFrame([['Cellular Senescence', 'Death-Resistant Cells', 1, 'http://www.sens.org/research/introduction-to-sens-research/deathresistant-cells']], columns=biggraph.columns))"
   ]
  },
  {
   "cell_type": "code",
   "execution_count": 102,
   "metadata": {},
   "outputs": [],
   "source": [
    "biggraph =biggraph.append(pd.DataFrame([['Death-Resistant Cells','Cellular Senescence',  1, 'http://www.sens.org/research/introduction-to-sens-research/deathresistant-cells']], columns=biggraph.columns))"
   ]
  },
  {
   "cell_type": "code",
   "execution_count": 103,
   "metadata": {},
   "outputs": [],
   "source": [
    "biggraph =biggraph.append(pd.DataFrame([['Genomic Instability', 'Cancerous Cells',  1, 'http://www.sens.org/research/introduction-to-sens-research/cancerous-cells']], columns=biggraph.columns))"
   ]
  },
  {
   "cell_type": "code",
   "execution_count": 104,
   "metadata": {},
   "outputs": [],
   "source": [
    "biggraph =biggraph.append(pd.DataFrame([['Genomic Instability', 'Mitochondrial Mutations',  1, 'http://www.sens.org/research/introduction-to-sens-research/mitochondrial-mutations']], columns=biggraph.columns))"
   ]
  },
  {
   "cell_type": "code",
   "execution_count": 105,
   "metadata": {},
   "outputs": [],
   "source": [
    "biggraph = biggraph.append(pd.DataFrame([['Mitochondrial Dysfunction', 'Mitochondrial Mutations',  1, 'http://www.sens.org/research/introduction-to-sens-research/mitochondrial-mutations']], columns=biggraph.columns))"
   ]
  },
  {
   "cell_type": "code",
   "execution_count": 106,
   "metadata": {},
   "outputs": [],
   "source": [
    "biggraph = biggraph.append(pd.DataFrame([[ 'Mitochondrial Mutations', 'Mitochondrial Dysfunction' ,1, 'http://www.sens.org/research/introduction-to-sens-research/mitochondrial-mutations']], columns=biggraph.columns))"
   ]
  },
  {
   "cell_type": "code",
   "execution_count": 107,
   "metadata": {},
   "outputs": [],
   "source": [
    "biggraph =biggraph.append(pd.DataFrame([['SIRT1', 'LXRa',  1, 'https://www.ncbi.nlm.nih.gov/pmc/articles/PMC2734380/']], columns=biggraph.columns))"
   ]
  },
  {
   "cell_type": "code",
   "execution_count": 108,
   "metadata": {},
   "outputs": [],
   "source": [
    "biggraph =biggraph.append(pd.DataFrame([['SIRT1', 'PTP1B',  -1, 'https://www.ncbi.nlm.nih.gov/pmc/articles/PMC2734380/']], columns=biggraph.columns))"
   ]
  },
  {
   "cell_type": "code",
   "execution_count": 109,
   "metadata": {},
   "outputs": [],
   "source": [
    "biggraph =biggraph.append(pd.DataFrame([['SIRT1','PPARg',  1, 'https://www.ncbi.nlm.nih.gov/pmc/articles/PMC2734380/']], columns=biggraph.columns))"
   ]
  },
  {
   "cell_type": "code",
   "execution_count": 110,
   "metadata": {},
   "outputs": [],
   "source": [
    "biggraph =biggraph.append(pd.DataFrame([['PCG1a', 'Gluconeogenesis',  1, 'https://www.ncbi.nlm.nih.gov/pmc/articles/PMC2734380/']], columns=biggraph.columns))"
   ]
  },
  {
   "cell_type": "code",
   "execution_count": 111,
   "metadata": {},
   "outputs": [],
   "source": [
    "biggraph =biggraph.append(pd.DataFrame([['PCG1a', 'Glycolysis',  -1, 'https://www.ncbi.nlm.nih.gov/pmc/articles/PMC2734380/']], columns=biggraph.columns))"
   ]
  },
  {
   "cell_type": "code",
   "execution_count": 112,
   "metadata": {},
   "outputs": [],
   "source": [
    "biggraph =biggraph.append(pd.DataFrame([['PTP1B', 'Insulin Sensitivity',  -1, 'https://www.ncbi.nlm.nih.gov/pmc/articles/PMC2734380/']], columns=biggraph.columns))"
   ]
  },
  {
   "cell_type": "code",
   "execution_count": 113,
   "metadata": {},
   "outputs": [],
   "source": [
    "biggraph =biggraph.append(pd.DataFrame([['Insulin Sensitivity', 'Dysregulated Nutrient Sensing',  -1, 'https://www.ncbi.nlm.nih.gov/pmc/articles/PMC2734380/']], columns=biggraph.columns))"
   ]
  },
  {
   "cell_type": "code",
   "execution_count": 114,
   "metadata": {},
   "outputs": [],
   "source": [
    "biggraph =biggraph.append(pd.DataFrame([['PPARg', 'Adipogenesis',  -1, 'https://www.ncbi.nlm.nih.gov/pmc/articles/PMC2734380/']], columns=biggraph.columns))"
   ]
  },
  {
   "cell_type": "code",
   "execution_count": 115,
   "metadata": {},
   "outputs": [],
   "source": [
    "biggraph =biggraph.append(pd.DataFrame([['Adipogenesis', 'Dysregulated Nutrient Sensing',  1, 'https://www.ncbi.nlm.nih.gov/pmc/articles/PMC2734380/']], columns=biggraph.columns))"
   ]
  },
  {
   "cell_type": "code",
   "execution_count": 116,
   "metadata": {},
   "outputs": [],
   "source": [
    "biggraph =biggraph.append(pd.DataFrame([['PCG1a', 'PPARa',  1, 'https://www.sciencedirect.com/science/article/pii/S0167488910002600']], columns=biggraph.columns))"
   ]
  },
  {
   "cell_type": "code",
   "execution_count": 117,
   "metadata": {},
   "outputs": [],
   "source": [
    "biggraph =biggraph.append(pd.DataFrame([['PCG1a', 'NRF-1',  1, 'https://www.sciencedirect.com/science/article/pii/S0167488910002600']], columns=biggraph.columns))"
   ]
  },
  {
   "cell_type": "code",
   "execution_count": 118,
   "metadata": {},
   "outputs": [],
   "source": [
    "biggraph =biggraph.append(pd.DataFrame([['PCG1a', 'ERRa',  1, 'https://www.sciencedirect.com/science/article/pii/S0167488910002600']], columns=biggraph.columns))"
   ]
  },
  {
   "cell_type": "code",
   "execution_count": 119,
   "metadata": {},
   "outputs": [],
   "source": [
    "biggraph =biggraph.append(pd.DataFrame([['ERRa', 'NRF-2',  1, 'https://www.sciencedirect.com/science/article/pii/S0167488910002600']], columns=biggraph.columns))"
   ]
  },
  {
   "cell_type": "code",
   "execution_count": 120,
   "metadata": {},
   "outputs": [],
   "source": [
    "biggraph =biggraph.append(pd.DataFrame([['NRF-1', 'Mitochondrial Biogenesis',  1, 'https://www.sciencedirect.com/science/article/pii/S0167488910002600']], columns=biggraph.columns))"
   ]
  },
  {
   "cell_type": "code",
   "execution_count": 121,
   "metadata": {},
   "outputs": [],
   "source": [
    "biggraph =biggraph.append(pd.DataFrame([['NRF-2', 'Mitochondrial Biogenesis',  1, 'https://www.sciencedirect.com/science/article/pii/S0167488910002600']], columns=biggraph.columns))"
   ]
  },
  {
   "cell_type": "code",
   "execution_count": 122,
   "metadata": {},
   "outputs": [],
   "source": [
    "biggraph =biggraph.append(pd.DataFrame([['Mitochondrial Biogenesis', 'Mitochondrial Dysfunction',  -1, 'https://www.sciencedirect.com/science/article/pii/S0167488910002600']], columns=biggraph.columns))"
   ]
  },
  {
   "cell_type": "code",
   "execution_count": 123,
   "metadata": {},
   "outputs": [],
   "source": [
    "biggraph =biggraph.append(pd.DataFrame([['NRF-1', 'VHL',  1, 'https://www.sciencedirect.com/science/article/pii/S0167488910002600']], columns=biggraph.columns))"
   ]
  },
  {
   "cell_type": "code",
   "execution_count": 124,
   "metadata": {},
   "outputs": [],
   "source": [
    "biggraph =biggraph.append(pd.DataFrame([['VHL', 'HIF1-a',  -1, 'https://www.sciencedirect.com/science/article/pii/S0167488910002600']], columns=biggraph.columns))"
   ]
  },
  {
   "cell_type": "code",
   "execution_count": 125,
   "metadata": {},
   "outputs": [],
   "source": [
    "biggraph =biggraph.append(pd.DataFrame([['HIF1-a', 'Glycolysis',  -1, 'https://www.sciencedirect.com/science/article/pii/S0167488910002600']], columns=biggraph.columns))"
   ]
  },
  {
   "cell_type": "code",
   "execution_count": 126,
   "metadata": {},
   "outputs": [],
   "source": [
    "biggraph =biggraph.append(pd.DataFrame([['AMPK', 'NRF-2',  1, 'https://www.sciencedirect.com/science/article/pii/S1568163711000778']], columns=biggraph.columns))"
   ]
  },
  {
   "cell_type": "code",
   "execution_count": 127,
   "metadata": {},
   "outputs": [],
   "source": [
    "biggraph =biggraph.append(pd.DataFrame([['AMPK', 'NFkB',  -1, 'https://www.sciencedirect.com/science/article/pii/S1568163711000778']], columns=biggraph.columns))"
   ]
  },
  {
   "cell_type": "code",
   "execution_count": 128,
   "metadata": {},
   "outputs": [],
   "source": [
    "biggraph =biggraph.append(pd.DataFrame([['AMPK', 'p53',  -1, 'https://www.sciencedirect.com/science/article/pii/S1568163711000778']], columns=biggraph.columns))"
   ]
  },
  {
   "cell_type": "code",
   "execution_count": 129,
   "metadata": {},
   "outputs": [],
   "source": [
    "biggraph =biggraph.append(pd.DataFrame([['LKB1', 'AMPK',  1, 'https://www.sciencedirect.com/science/article/pii/S1568163711000778']], columns=biggraph.columns))"
   ]
  },
  {
   "cell_type": "code",
   "execution_count": 130,
   "metadata": {},
   "outputs": [],
   "source": [
    "biggraph =biggraph.append(pd.DataFrame([['CaMKKb', 'AMPK',  1, 'https://www.sciencedirect.com/science/article/pii/S1568163711000778']], columns=biggraph.columns))"
   ]
  },
  {
   "cell_type": "code",
   "execution_count": 131,
   "metadata": {},
   "outputs": [],
   "source": [
    "biggraph =biggraph.append(pd.DataFrame([['TAK1', 'AMPK',  1, 'https://www.sciencedirect.com/science/article/pii/S1568163711000778']], columns=biggraph.columns))"
   ]
  },
  {
   "cell_type": "code",
   "execution_count": 132,
   "metadata": {},
   "outputs": [],
   "source": [
    "biggraph =biggraph.append(pd.DataFrame([['PP2a', 'AMPK',  -1, 'https://www.sciencedirect.com/science/article/pii/S1568163711000778']], columns=biggraph.columns))"
   ]
  },
  {
   "cell_type": "code",
   "execution_count": 133,
   "metadata": {},
   "outputs": [],
   "source": [
    "biggraph =biggraph.append(pd.DataFrame([['AMPK', 'CRTC-1',  -1, 'https://www.sciencedirect.com/science/article/pii/S1568163711000778']], columns=biggraph.columns))"
   ]
  },
  {
   "cell_type": "code",
   "execution_count": 134,
   "metadata": {},
   "outputs": [],
   "source": [
    "biggraph =biggraph.append(pd.DataFrame([['SIRT1', 'HSF1',  1, 'https://www.ncbi.nlm.nih.gov/pmc/articles/PMC3429349/']], columns=biggraph.columns))"
   ]
  },
  {
   "cell_type": "code",
   "execution_count": 135,
   "metadata": {},
   "outputs": [],
   "source": [
    "biggraph =biggraph.append(pd.DataFrame([['p53', 'IGF-1',  -1, 'https://www.ncbi.nlm.nih.gov/pmc/articles/PMC4120491/']], columns=biggraph.columns))"
   ]
  },
  {
   "cell_type": "code",
   "execution_count": 136,
   "metadata": {},
   "outputs": [],
   "source": [
    "biggraph =biggraph.append(pd.DataFrame([['IL-6', 'Thymic Atrophy',  1, 'https://onlinelibrary.wiley.com/doi/full/10.1002/path.2104']], columns=biggraph.columns))"
   ]
  },
  {
   "cell_type": "code",
   "execution_count": 137,
   "metadata": {},
   "outputs": [],
   "source": [
    "biggraph =biggraph.append(pd.DataFrame([['Thymic Atrophy', 'Stem Cell Exhaustion',  1, 'https://onlinelibrary.wiley.com/doi/full/10.1002/path.2104']], columns=biggraph.columns))"
   ]
  },
  {
   "cell_type": "code",
   "execution_count": 138,
   "metadata": {},
   "outputs": [],
   "source": [
    "biggraph =biggraph.append(pd.DataFrame([['FOXO1', 'Stem Cell Exhaustion',  -1, 'https://www.ncbi.nlm.nih.gov/pmc/articles/PMC4160113/']], columns=biggraph.columns))"
   ]
  },
  {
   "cell_type": "code",
   "execution_count": 139,
   "metadata": {},
   "outputs": [],
   "source": [
    "biggraph =biggraph.append(pd.DataFrame([['PTEN', 'Stem Cell Exhaustion',  -1, 'https://www.ncbi.nlm.nih.gov/pmc/articles/PMC4160113/']], columns=biggraph.columns))"
   ]
  },
  {
   "cell_type": "code",
   "execution_count": 140,
   "metadata": {},
   "outputs": [],
   "source": [
    "biggraph =biggraph.append(pd.DataFrame([['SOD2', 'Stem Cell Exhaustion',  -1, 'https://www.ncbi.nlm.nih.gov/pmc/articles/PMC4160113/']], columns=biggraph.columns))"
   ]
  },
  {
   "cell_type": "code",
   "execution_count": 141,
   "metadata": {},
   "outputs": [],
   "source": [
    "biggraph =biggraph.append(pd.DataFrame([['SIRT1', 'Stem Cell Exhaustion',  -1, 'https://www.ncbi.nlm.nih.gov/pmc/articles/PMC4160113/']], columns=biggraph.columns))"
   ]
  },
  {
   "cell_type": "code",
   "execution_count": 142,
   "metadata": {},
   "outputs": [],
   "source": [
    "biggraph =biggraph.append(pd.DataFrame([['Genomic Instability', 'Stem Cell Exhaustion',  1, 'https://www.ncbi.nlm.nih.gov/pmc/articles/PMC4160113/']], columns=biggraph.columns))"
   ]
  },
  {
   "cell_type": "code",
   "execution_count": 143,
   "metadata": {},
   "outputs": [],
   "source": [
    "biggraph =biggraph.append(pd.DataFrame([['mTOR', 'PCG1a', 1, 'https://www.ncbi.nlm.nih.gov/pubmed/23454757']], columns=biggraph.columns))"
   ]
  },
  {
   "cell_type": "code",
   "execution_count": 144,
   "metadata": {},
   "outputs": [],
   "source": [
    "biggraph =biggraph.append(pd.DataFrame([['GSK3', 'PCG1a', -1, 'https://www.ncbi.nlm.nih.gov/pubmed/23454757']], columns=biggraph.columns))"
   ]
  },
  {
   "cell_type": "code",
   "execution_count": 145,
   "metadata": {},
   "outputs": [],
   "source": [
    "biggraph =biggraph.append(pd.DataFrame([['AMPK', 'PCG1a', 1, 'https://www.ncbi.nlm.nih.gov/pubmed/23454757']], columns=biggraph.columns))"
   ]
  },
  {
   "cell_type": "code",
   "execution_count": 146,
   "metadata": {},
   "outputs": [],
   "source": [
    "biggraph =biggraph.append(pd.DataFrame([['TFEB', 'Autophagy', 1, 'https://www.ncbi.nlm.nih.gov/pubmed/26646498']], columns=biggraph.columns))"
   ]
  },
  {
   "cell_type": "code",
   "execution_count": 147,
   "metadata": {},
   "outputs": [],
   "source": [
    "biggraph =biggraph.append(pd.DataFrame([['IGF-1', 'Ras', 1, 'https://www.ncbi.nlm.nih.gov/pubmed/24579735']], columns=biggraph.columns))"
   ]
  },
  {
   "cell_type": "code",
   "execution_count": 148,
   "metadata": {},
   "outputs": [],
   "source": [
    "biggraph =biggraph.append(pd.DataFrame([['Cellular Senescence', 'CD28', -1, 'https://www.ncbi.nlm.nih.gov/pubmed/24579735']], columns=biggraph.columns))"
   ]
  },
  {
   "cell_type": "code",
   "execution_count": 149,
   "metadata": {},
   "outputs": [],
   "source": [
    "biggraph =biggraph.append(pd.DataFrame([['Ras', 'Cellular Senescence', 1, 'https://www.ncbi.nlm.nih.gov/pubmed/24579735']], columns=biggraph.columns))"
   ]
  },
  {
   "cell_type": "code",
   "execution_count": 150,
   "metadata": {},
   "outputs": [],
   "source": [
    "biggraph =biggraph.append(pd.DataFrame([['Ras', 'RAF', 1, 'https://www.ncbi.nlm.nih.gov/pubmed/25087968']], columns=biggraph.columns))"
   ]
  },
  {
   "cell_type": "code",
   "execution_count": 151,
   "metadata": {},
   "outputs": [],
   "source": [
    "biggraph =biggraph.append(pd.DataFrame([['RAF', 'MEK', 1, 'https://www.ncbi.nlm.nih.gov/pubmed/25087968']], columns=biggraph.columns))"
   ]
  },
  {
   "cell_type": "code",
   "execution_count": 152,
   "metadata": {},
   "outputs": [],
   "source": [
    "biggraph =biggraph.append(pd.DataFrame([['MEK', 'ErK', 1, 'https://www.ncbi.nlm.nih.gov/pubmed/25087968']], columns=biggraph.columns))"
   ]
  },
  {
   "cell_type": "code",
   "execution_count": 153,
   "metadata": {},
   "outputs": [],
   "source": [
    "biggraph =biggraph.append(pd.DataFrame([['Akt', 'BAD', 1, 'https://www.ncbi.nlm.nih.gov/pubmed/25087968']], columns=biggraph.columns))"
   ]
  },
  {
   "cell_type": "code",
   "execution_count": 154,
   "metadata": {},
   "outputs": [],
   "source": [
    "biggraph =biggraph.append(pd.DataFrame([['BAD', 'Apoptosis', -1, 'https://www.ncbi.nlm.nih.gov/pubmed/25087968']], columns=biggraph.columns))"
   ]
  },
  {
   "cell_type": "code",
   "execution_count": 155,
   "metadata": {},
   "outputs": [],
   "source": [
    "biggraph =biggraph.append(pd.DataFrame([['Akt', 'PRAS40', 1, 'https://www.ncbi.nlm.nih.gov/pubmed/25087968']], columns=biggraph.columns))"
   ]
  },
  {
   "cell_type": "code",
   "execution_count": 156,
   "metadata": {},
   "outputs": [],
   "source": [
    "biggraph =biggraph.append(pd.DataFrame([['PRAS40', 'mTOR', -1, 'https://www.ncbi.nlm.nih.gov/pubmed/25087968']], columns=biggraph.columns))"
   ]
  },
  {
   "cell_type": "code",
   "execution_count": 157,
   "metadata": {},
   "outputs": [],
   "source": [
    "biggraph =biggraph.append(pd.DataFrame([['Akt', 'TSC', -1, 'https://www.ncbi.nlm.nih.gov/pubmed/25087968']], columns=biggraph.columns))"
   ]
  },
  {
   "cell_type": "code",
   "execution_count": null,
   "metadata": {},
   "outputs": [],
   "source": []
  },
  {
   "cell_type": "code",
   "execution_count": 158,
   "metadata": {},
   "outputs": [],
   "source": [
    "biggraph =biggraph.append(pd.DataFrame([['TSC', 'mTOR', -1, 'https://www.ncbi.nlm.nih.gov/pubmed/25087968']], columns=biggraph.columns))"
   ]
  },
  {
   "cell_type": "code",
   "execution_count": 159,
   "metadata": {},
   "outputs": [],
   "source": [
    "biggraph =biggraph.append(pd.DataFrame([['TNF-a', 'Aromatase', 1, 'https://www.ncbi.nlm.nih.gov/pubmed/23348042']], columns=biggraph.columns))"
   ]
  },
  {
   "cell_type": "code",
   "execution_count": 160,
   "metadata": {},
   "outputs": [],
   "source": [
    "biggraph =biggraph.append(pd.DataFrame([['Aromatase', 'Estrogen', 1, 'https://www.ncbi.nlm.nih.gov/pubmed/23348042']], columns=biggraph.columns))"
   ]
  },
  {
   "cell_type": "code",
   "execution_count": 161,
   "metadata": {},
   "outputs": [],
   "source": [
    "biggraph =biggraph.append(pd.DataFrame([['Estrogen', 'Akt', 1, 'https://www.ncbi.nlm.nih.gov/pubmed/23348042']], columns=biggraph.columns))"
   ]
  },
  {
   "cell_type": "code",
   "execution_count": 162,
   "metadata": {},
   "outputs": [],
   "source": [
    "biggraph =biggraph.append(pd.DataFrame([['SHP-1', 'LcK', -1, 'https://www.ncbi.nlm.nih.gov/pubmed/24934647']], columns=biggraph.columns))"
   ]
  },
  {
   "cell_type": "code",
   "execution_count": 163,
   "metadata": {},
   "outputs": [],
   "source": [
    "biggraph =biggraph.append(pd.DataFrame([['LcK', 'LAT', 1, 'https://www.ncbi.nlm.nih.gov/pubmed/24934647']], columns=biggraph.columns))"
   ]
  },
  {
   "cell_type": "code",
   "execution_count": 164,
   "metadata": {},
   "outputs": [],
   "source": [
    "biggraph =biggraph.append(pd.DataFrame([['LAT', 'MAPK', 1, 'https://www.ncbi.nlm.nih.gov/pubmed/24934647']], columns=biggraph.columns))"
   ]
  },
  {
   "cell_type": "code",
   "execution_count": 165,
   "metadata": {},
   "outputs": [],
   "source": [
    "biggraph =biggraph.append(pd.DataFrame([['MAPK', 'NFkB', 1, 'https://www.ncbi.nlm.nih.gov/pubmed/24934647']], columns=biggraph.columns))"
   ]
  },
  {
   "cell_type": "code",
   "execution_count": 166,
   "metadata": {},
   "outputs": [],
   "source": [
    "biggraph =biggraph.append(pd.DataFrame([['CD28', 'ROS', 1, 'https://www.ncbi.nlm.nih.gov/pubmed/24934647']], columns=biggraph.columns))"
   ]
  },
  {
   "cell_type": "code",
   "execution_count": 167,
   "metadata": {},
   "outputs": [],
   "source": [
    "biggraph =biggraph.append(pd.DataFrame([['BMAL1', 'mTOR', -1, 'https://www.ncbi.nlm.nih.gov/pubmed/22481314']], columns=biggraph.columns))"
   ]
  },
  {
   "cell_type": "code",
   "execution_count": 168,
   "metadata": {},
   "outputs": [],
   "source": [
    "biggraph =biggraph.append(pd.DataFrame([['ROS', 'PTEN', -1, 'https://www.ncbi.nlm.nih.gov/pubmed/24353555']], columns=biggraph.columns))"
   ]
  },
  {
   "cell_type": "code",
   "execution_count": 169,
   "metadata": {},
   "outputs": [],
   "source": [
    "biggraph =biggraph.append(pd.DataFrame([['ROS', 'PTP1B', -1, 'https://www.ncbi.nlm.nih.gov/pubmed/24353555']], columns=biggraph.columns))"
   ]
  },
  {
   "cell_type": "code",
   "execution_count": 170,
   "metadata": {},
   "outputs": [],
   "source": [
    "biggraph =biggraph.append(pd.DataFrame([['ROS', 'CDC25', -1, 'https://www.ncbi.nlm.nih.gov/pubmed/24353555']], columns=biggraph.columns))"
   ]
  },
  {
   "cell_type": "code",
   "execution_count": 171,
   "metadata": {},
   "outputs": [],
   "source": [
    "biggraph =biggraph.append(pd.DataFrame([['ROS', 'LNK', -1, 'https://www.ncbi.nlm.nih.gov/pubmed/24353555']], columns=biggraph.columns))"
   ]
  },
  {
   "cell_type": "code",
   "execution_count": 172,
   "metadata": {},
   "outputs": [],
   "source": [
    "biggraph =biggraph.append(pd.DataFrame([['SOD', 'ROS', -1, 'https://www.ncbi.nlm.nih.gov/pubmed/24353555']], columns=biggraph.columns))"
   ]
  },
  {
   "cell_type": "code",
   "execution_count": 173,
   "metadata": {},
   "outputs": [],
   "source": [
    "biggraph =biggraph.append(pd.DataFrame([['HSP90', 'HSF1', -1, 'https://www.ncbi.nlm.nih.gov/pubmed/24094931']], columns=biggraph.columns))"
   ]
  },
  {
   "cell_type": "code",
   "execution_count": 174,
   "metadata": {},
   "outputs": [],
   "source": [
    "biggraph =biggraph.append(pd.DataFrame([['PERK', 'Loss of Proteostasis', -1, 'https://www.ncbi.nlm.nih.gov/pubmed/24094931']], columns=biggraph.columns))"
   ]
  },
  {
   "cell_type": "code",
   "execution_count": 175,
   "metadata": {},
   "outputs": [],
   "source": [
    "biggraph =biggraph.append(pd.DataFrame([['ATF6', 'Loss of Proteostasis', -1, 'https://www.ncbi.nlm.nih.gov/pubmed/24094931']], columns=biggraph.columns))"
   ]
  },
  {
   "cell_type": "code",
   "execution_count": 176,
   "metadata": {},
   "outputs": [],
   "source": [
    "biggraph =biggraph.append(pd.DataFrame([['IRE1', 'Loss of Proteostasis', -1, 'https://www.ncbi.nlm.nih.gov/pubmed/24094931']], columns=biggraph.columns))"
   ]
  },
  {
   "cell_type": "code",
   "execution_count": 177,
   "metadata": {},
   "outputs": [],
   "source": [
    "biggraph =biggraph.append(pd.DataFrame([['HSP90', 'Stem Cell Exhaustion', -1, 'https://www.ncbi.nlm.nih.gov/pubmed/24094931']], columns=biggraph.columns))"
   ]
  },
  {
   "cell_type": "code",
   "execution_count": 178,
   "metadata": {},
   "outputs": [],
   "source": [
    "biggraph =biggraph.append(pd.DataFrame([['NFkB', 'Klotho', -1, 'https://www.ncbi.nlm.nih.gov/pubmed/25695404']], columns=biggraph.columns))"
   ]
  },
  {
   "cell_type": "code",
   "execution_count": 179,
   "metadata": {},
   "outputs": [],
   "source": [
    "biggraph =biggraph.append(pd.DataFrame([['Klotho', 'Insulin', -1, 'https://www.ncbi.nlm.nih.gov/pubmed/25695404']], columns=biggraph.columns))"
   ]
  },
  {
   "cell_type": "code",
   "execution_count": 180,
   "metadata": {},
   "outputs": [],
   "source": [
    "biggraph =biggraph.append(pd.DataFrame([['Klotho', 'Wnt', -1, 'https://www.ncbi.nlm.nih.gov/pubmed/24094931']], columns=biggraph.columns))"
   ]
  },
  {
   "cell_type": "code",
   "execution_count": 181,
   "metadata": {},
   "outputs": [],
   "source": [
    "biggraph =biggraph.append(pd.DataFrame([['Wnt', 'Stem Cell Exhaustion', -1, 'https://www.ncbi.nlm.nih.gov/pubmed/24094931']], columns=biggraph.columns))"
   ]
  },
  {
   "cell_type": "code",
   "execution_count": 182,
   "metadata": {},
   "outputs": [],
   "source": [
    "biggraph =biggraph.append(pd.DataFrame([['Klotho', 'ROS', -1, 'https://www.ncbi.nlm.nih.gov/pubmed/24094931']], columns=biggraph.columns))"
   ]
  },
  {
   "cell_type": "code",
   "execution_count": 183,
   "metadata": {},
   "outputs": [],
   "source": [
    "biggraph =biggraph.append(pd.DataFrame([['p16', 'Cellular Senescence', -1, 'https://www.ncbi.nlm.nih.gov/pubmed/225']], columns=biggraph.columns))"
   ]
  },
  {
   "cell_type": "code",
   "execution_count": 184,
   "metadata": {},
   "outputs": [],
   "source": [
    "biggraph =biggraph.append(pd.DataFrame([['ROS', 'p16', -1, 'https://www.ncbi.nlm.nih.gov/pubmed/24094931']], columns=biggraph.columns))"
   ]
  },
  {
   "cell_type": "code",
   "execution_count": 185,
   "metadata": {},
   "outputs": [],
   "source": [
    "biggraph =biggraph.append(pd.DataFrame([['ROS', 'Telomere Attrition', 1, 'https://www.ncbi.nlm.nih.gov/pubmed/24094931']], columns=biggraph.columns))"
   ]
  },
  {
   "cell_type": "code",
   "execution_count": 186,
   "metadata": {},
   "outputs": [],
   "source": [
    "biggraph =biggraph.append(pd.DataFrame([['TERT', 'p16', -1, 'https://www.ncbi.nlm.nih.gov/pubmed/24094931']], columns=biggraph.columns))"
   ]
  },
  {
   "cell_type": "code",
   "execution_count": 187,
   "metadata": {},
   "outputs": [],
   "source": [
    "biggraph =biggraph.append(pd.DataFrame([['TERT', 'Telomere Attrition', -1, 'https://www.ncbi.nlm.nih.gov/pubmed/24094931']], columns=biggraph.columns))"
   ]
  },
  {
   "cell_type": "code",
   "execution_count": 188,
   "metadata": {},
   "outputs": [],
   "source": [
    "biggraph =biggraph.append(pd.DataFrame([['Wnt', 'LRP', 1, 'https://www.ncbi.nlm.nih.gov/pubmed/20385253']], columns=biggraph.columns))"
   ]
  },
  {
   "cell_type": "code",
   "execution_count": 189,
   "metadata": {},
   "outputs": [],
   "source": [
    "biggraph =biggraph.append(pd.DataFrame([['LRP', 'GSK3', -1, 'https://www.ncbi.nlm.nih.gov/pubmed/20385253']], columns=biggraph.columns))"
   ]
  },
  {
   "cell_type": "code",
   "execution_count": 190,
   "metadata": {},
   "outputs": [],
   "source": [
    "biggraph =biggraph.append(pd.DataFrame([['GSK3', 'TSC', 1, 'https://www.ncbi.nlm.nih.gov/pubmed/20385253']], columns=biggraph.columns))"
   ]
  },
  {
   "cell_type": "code",
   "execution_count": 191,
   "metadata": {},
   "outputs": [],
   "source": [
    "biggraph =biggraph.append(pd.DataFrame([['PHD', 'HIF1-a', -1, 'https://www.ncbi.nlm.nih.gov/pubmed/20385253']], columns=biggraph.columns))"
   ]
  },
  {
   "cell_type": "code",
   "execution_count": 192,
   "metadata": {},
   "outputs": [],
   "source": [
    "biggraph =biggraph.append(pd.DataFrame([['HI1-a', 'TSC', 1, 'https://www.ncbi.nlm.nih.gov/pubmed/20385253']], columns=biggraph.columns))"
   ]
  },
  {
   "cell_type": "code",
   "execution_count": 193,
   "metadata": {},
   "outputs": [],
   "source": [
    "biggraph =biggraph.append(pd.DataFrame([['AMPK', 'TSC', 1, 'https://www.ncbi.nlm.nih.gov/pubmed/20385253']], columns=biggraph.columns))"
   ]
  },
  {
   "cell_type": "code",
   "execution_count": 194,
   "metadata": {},
   "outputs": [],
   "source": [
    "biggraph =biggraph.append(pd.DataFrame([['CLOCK', 'NAMPT', 1, 'https://www.ncbi.nlm.nih.gov/pubmed/25033025']], columns=biggraph.columns))"
   ]
  },
  {
   "cell_type": "code",
   "execution_count": 195,
   "metadata": {},
   "outputs": [],
   "source": [
    "biggraph =biggraph.append(pd.DataFrame([['SIRT1', 'NAMPT', 1, 'https://www.ncbi.nlm.nih.gov/pubmed/25033025']], columns=biggraph.columns))"
   ]
  },
  {
   "cell_type": "code",
   "execution_count": 196,
   "metadata": {},
   "outputs": [],
   "source": [
    "biggraph =biggraph.append(pd.DataFrame([['BMAL1', 'NAMPT', 1, 'https://www.ncbi.nlm.nih.gov/pubmed/25033025']], columns=biggraph.columns))"
   ]
  },
  {
   "cell_type": "code",
   "execution_count": 197,
   "metadata": {},
   "outputs": [],
   "source": [
    "biggraph =biggraph.append(pd.DataFrame([['SIRT1', 'BMAL1', 1, 'https://www.ncbi.nlm.nih.gov/pubmed/25033025']], columns=biggraph.columns))"
   ]
  },
  {
   "cell_type": "code",
   "execution_count": 198,
   "metadata": {},
   "outputs": [],
   "source": [
    "biggraph =biggraph.append(pd.DataFrame([['SIRT1', 'HNF1a', -1, 'https://www.ncbi.nlm.nih.gov/pubmed/25033025']], columns=biggraph.columns))"
   ]
  },
  {
   "cell_type": "code",
   "execution_count": 199,
   "metadata": {},
   "outputs": [],
   "source": [
    "biggraph =biggraph.append(pd.DataFrame([['HNF1a', 'cMYC', -1, 'https://www.ncbi.nlm.nih.gov/pubmed/25033025']], columns=biggraph.columns))"
   ]
  },
  {
   "cell_type": "code",
   "execution_count": 200,
   "metadata": {},
   "outputs": [],
   "source": [
    "biggraph =biggraph.append(pd.DataFrame([['MEKK', 'MAP2K4', 1, 'https://www.ncbi.nlm.nih.gov/pubmed/22294612']], columns=biggraph.columns))"
   ]
  },
  {
   "cell_type": "code",
   "execution_count": 201,
   "metadata": {},
   "outputs": [],
   "source": [
    "biggraph =biggraph.append(pd.DataFrame([['MAP2K4', 'JNK', 1, 'https://www.ncbi.nlm.nih.gov/pubmed/22294612']], columns=biggraph.columns))"
   ]
  },
  {
   "cell_type": "code",
   "execution_count": 202,
   "metadata": {},
   "outputs": [],
   "source": [
    "biggraph =biggraph.append(pd.DataFrame([['H2AX', 'Genomic Instability', -1, 'https://www.ncbi.nlm.nih.gov/pubmed/22902297']], columns=biggraph.columns))"
   ]
  },
  {
   "cell_type": "code",
   "execution_count": 203,
   "metadata": {},
   "outputs": [],
   "source": [
    "biggraph =biggraph.append(pd.DataFrame([['NuRD', 'Genomic Instability', -1, 'https://www.ncbi.nlm.nih.gov/pubmed/22902297']], columns=biggraph.columns))"
   ]
  },
  {
   "cell_type": "code",
   "execution_count": 204,
   "metadata": {},
   "outputs": [],
   "source": [
    "biggraph =biggraph.append(pd.DataFrame([['SIRT1', 'Genomic Instability', -1, 'https://www.ncbi.nlm.nih.gov/pubmed/22902297']], columns=biggraph.columns))"
   ]
  },
  {
   "cell_type": "code",
   "execution_count": 205,
   "metadata": {},
   "outputs": [],
   "source": [
    "biggraph =biggraph.append(pd.DataFrame([['SIRT6', 'Genomic Instability', -1, 'https://www.ncbi.nlm.nih.gov/pubmed/22902297']], columns=biggraph.columns))"
   ]
  },
  {
   "cell_type": "code",
   "execution_count": 206,
   "metadata": {},
   "outputs": [],
   "source": [
    "biggraph.to_csv('biggraph.csv')"
   ]
  },
  {
   "cell_type": "code",
   "execution_count": null,
   "metadata": {},
   "outputs": [],
   "source": []
  },
  {
   "cell_type": "code",
   "execution_count": null,
   "metadata": {},
   "outputs": [],
   "source": []
  },
  {
   "cell_type": "code",
   "execution_count": null,
   "metadata": {},
   "outputs": [],
   "source": []
  }
 ],
 "metadata": {
  "kernelspec": {
   "display_name": "Python 3",
   "language": "python",
   "name": "python3"
  },
  "language_info": {
   "codemirror_mode": {
    "name": "ipython",
    "version": 3
   },
   "file_extension": ".py",
   "mimetype": "text/x-python",
   "name": "python",
   "nbconvert_exporter": "python",
   "pygments_lexer": "ipython3",
   "version": "3.6.4"
  }
 },
 "nbformat": 4,
 "nbformat_minor": 2
}
