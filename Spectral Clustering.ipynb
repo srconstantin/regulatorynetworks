{
 "cells": [
  {
   "cell_type": "code",
   "execution_count": 3,
   "metadata": {},
   "outputs": [],
   "source": [
    "import pandas as pd\n",
    "import numpy as np\n",
    "import networkx as nx\n",
    "import matplotlib.pyplot as plt\n",
    "import sklearn"
   ]
  },
  {
   "cell_type": "code",
   "execution_count": 4,
   "metadata": {},
   "outputs": [],
   "source": [
    "biggraph = pd.read_csv('biggraph.csv')"
   ]
  },
  {
   "cell_type": "code",
   "execution_count": null,
   "metadata": {},
   "outputs": [],
   "source": [
    "#here compute the UNDIRECTED graph matrix"
   ]
  },
  {
   "cell_type": "code",
   "execution_count": 9,
   "metadata": {},
   "outputs": [],
   "source": [
    "biggraph = pd.read_csv('biggraph.csv')\n",
    "nodes = np.unique(np.concatenate((biggraph['First'].unique(), biggraph['Second'].unique())))\n",
    "bigmatrix = np.zeros((len(nodes), len(nodes)))\n",
    "nodesdict = dict(zip(nodes, range(len(nodes))))\n",
    "for index, row in biggraph.iterrows():\n",
    "    first = row['First']\n",
    "    second = row['Second']\n",
    "    value = row['Direction']\n",
    "    i = nodesdict[first]\n",
    "    j = nodesdict[second]\n",
    "    bigmatrix[i, j] = 1"
   ]
  },
  {
   "cell_type": "code",
   "execution_count": null,
   "metadata": {},
   "outputs": [],
   "source": []
  },
  {
   "cell_type": "code",
   "execution_count": 5,
   "metadata": {},
   "outputs": [],
   "source": [
    "from sklearn.cluster import SpectralClustering\n",
    "from sklearn import metrics"
   ]
  },
  {
   "cell_type": "code",
   "execution_count": 11,
   "metadata": {},
   "outputs": [
    {
     "name": "stderr",
     "output_type": "stream",
     "text": [
      "/anaconda3/lib/python3.6/site-packages/sklearn/utils/validation.py:709: UserWarning: Array is not symmetric, and will be converted to symmetric by average with its transpose.\n",
      "  warnings.warn(\"Array is not symmetric, and will be converted \"\n",
      "/anaconda3/lib/python3.6/site-packages/sklearn/manifold/spectral_embedding_.py:234: UserWarning: Graph is not fully connected, spectral embedding may not work as expected.\n",
      "  warnings.warn(\"Graph is not fully connected, spectral embedding\"\n"
     ]
    },
    {
     "data": {
      "text/plain": [
       "array([0, 1, 1, 1, 1, 0, 1, 1, 1, 1, 1, 1, 1, 1, 1, 1, 1, 1, 1, 1, 0, 1,\n",
       "       1, 1, 0, 1, 1, 1, 1, 1, 1, 1, 1, 0, 1, 1, 1, 1, 1, 1, 1, 1, 1, 1,\n",
       "       1, 1, 1, 1, 1, 1, 1, 1, 1, 1, 1, 1, 1, 1, 1, 1, 1, 1, 1, 1, 1, 1,\n",
       "       1, 1, 1, 1, 1, 1, 1, 1, 0, 1, 1, 1, 1, 1, 1, 1, 1, 0, 1, 0, 1, 1,\n",
       "       1, 1, 1, 1, 1, 1, 1, 1, 1, 0, 1, 1, 1, 1, 1, 1, 1, 1, 1, 1, 1, 0,\n",
       "       1, 1, 0, 1, 1, 1, 1, 0, 1, 1, 1, 1, 1, 1, 1, 1, 1, 1, 1, 1, 1, 1,\n",
       "       1, 0, 1, 1, 1], dtype=int32)"
      ]
     },
     "execution_count": 11,
     "metadata": {},
     "output_type": "execute_result"
    }
   ],
   "source": [
    "sc = SpectralClustering(2, affinity='precomputed', n_init=100)\n",
    "sc.fit_predict(bigmatrix)"
   ]
  },
  {
   "cell_type": "code",
   "execution_count": 12,
   "metadata": {},
   "outputs": [
    {
     "name": "stderr",
     "output_type": "stream",
     "text": [
      "/anaconda3/lib/python3.6/site-packages/sklearn/utils/validation.py:709: UserWarning: Array is not symmetric, and will be converted to symmetric by average with its transpose.\n",
      "  warnings.warn(\"Array is not symmetric, and will be converted \"\n",
      "/anaconda3/lib/python3.6/site-packages/sklearn/manifold/spectral_embedding_.py:234: UserWarning: Graph is not fully connected, spectral embedding may not work as expected.\n",
      "  warnings.warn(\"Graph is not fully connected, spectral embedding\"\n"
     ]
    },
    {
     "data": {
      "text/plain": [
       "137"
      ]
     },
     "execution_count": 12,
     "metadata": {},
     "output_type": "execute_result"
    }
   ],
   "source": [
    "len(sc.fit_predict(bigmatrix))"
   ]
  },
  {
   "cell_type": "code",
   "execution_count": 22,
   "metadata": {},
   "outputs": [
    {
     "name": "stderr",
     "output_type": "stream",
     "text": [
      "/anaconda3/lib/python3.6/site-packages/sklearn/utils/validation.py:709: UserWarning: Array is not symmetric, and will be converted to symmetric by average with its transpose.\n",
      "  warnings.warn(\"Array is not symmetric, and will be converted \"\n",
      "/anaconda3/lib/python3.6/site-packages/sklearn/manifold/spectral_embedding_.py:234: UserWarning: Graph is not fully connected, spectral embedding may not work as expected.\n",
      "  warnings.warn(\"Graph is not fully connected, spectral embedding\"\n"
     ]
    }
   ],
   "source": [
    "myclusters2 = sc.fit_predict(bigmatrix)"
   ]
  },
  {
   "cell_type": "code",
   "execution_count": 23,
   "metadata": {},
   "outputs": [
    {
     "data": {
      "text/plain": [
       "['ATF6',\n",
       " 'Acetyl-CoA',\n",
       " 'Adipogenesis',\n",
       " 'Adiponectin',\n",
       " 'Altered Intercellular Communication',\n",
       " 'Apoptosis',\n",
       " 'Aromatase',\n",
       " 'Autophagy',\n",
       " 'BAD',\n",
       " 'BMAL1',\n",
       " 'CD28',\n",
       " 'CD38',\n",
       " 'CDC25',\n",
       " 'CLOCK',\n",
       " 'CRTC-1',\n",
       " 'CaMKKb',\n",
       " 'Cancerous Cells',\n",
       " 'Cell Loss and Atrophy',\n",
       " 'Death-Resistant Cells',\n",
       " 'Dysregulated Nutrient Sensing',\n",
       " 'ERRa',\n",
       " 'ErK',\n",
       " 'Estrogen',\n",
       " 'Extracellular Crosslinks',\n",
       " 'Extracellular Junk',\n",
       " 'FOXO1',\n",
       " 'GH',\n",
       " 'GM-CSF',\n",
       " 'GSK3',\n",
       " 'Gluconeogenesis',\n",
       " 'Glycolysis',\n",
       " 'GnRH',\n",
       " 'H2AX',\n",
       " 'H3K27me3',\n",
       " 'H3K4me3',\n",
       " 'H3K9me',\n",
       " 'H4K16ac',\n",
       " 'H4K20me3',\n",
       " 'HI1-a',\n",
       " 'HIF-1a',\n",
       " 'HIF1-a',\n",
       " 'HK39 deacetylation',\n",
       " 'HNF1a',\n",
       " 'HP1a',\n",
       " 'HSF1',\n",
       " 'HSP90',\n",
       " 'Hsp60',\n",
       " 'Hsp7',\n",
       " 'IFN-a',\n",
       " 'IGF-1',\n",
       " 'IL-1a',\n",
       " 'IL-1b',\n",
       " 'IL-2',\n",
       " 'IL-6',\n",
       " 'IRE1',\n",
       " 'Insulin',\n",
       " 'Insulin Sensitivity',\n",
       " 'Intracellular Junk',\n",
       " 'JNK',\n",
       " 'Klotho',\n",
       " 'LAMP2a',\n",
       " 'LAT',\n",
       " 'LKB1',\n",
       " 'LMNA',\n",
       " 'LNK',\n",
       " 'LRP',\n",
       " 'LXRa',\n",
       " 'LcK',\n",
       " 'Leptin',\n",
       " 'MAP2K4',\n",
       " 'MAPK',\n",
       " 'MEK',\n",
       " 'MEKK',\n",
       " 'Melatonin',\n",
       " 'Mitochondrial Biogenesis',\n",
       " 'Mitochondrial Dysfunction',\n",
       " 'Mitochondrial Mutations',\n",
       " 'NAMPT',\n",
       " 'NGF',\n",
       " 'NMN',\n",
       " 'NO',\n",
       " 'NR',\n",
       " 'NRF-1',\n",
       " 'NRF-2',\n",
       " 'Neural stem cells',\n",
       " 'Norepinephrine',\n",
       " 'NuRD',\n",
       " 'PARP1',\n",
       " 'PCAF',\n",
       " 'PERK',\n",
       " 'PHD',\n",
       " 'PI3K',\n",
       " 'PP2a',\n",
       " 'PPARa',\n",
       " 'PPARg',\n",
       " 'PRAS40',\n",
       " 'PRDM13',\n",
       " 'PTEN',\n",
       " 'PTP1B',\n",
       " 'RAF',\n",
       " 'Ras',\n",
       " 'SHP-1',\n",
       " 'SIRT6',\n",
       " 'SOD',\n",
       " 'SOD2',\n",
       " 'Shelterin',\n",
       " 'Superoxide',\n",
       " 'TAK1',\n",
       " 'TERT',\n",
       " 'TFEB',\n",
       " 'TNF-a',\n",
       " 'TRL4',\n",
       " 'TSC',\n",
       " 'Telomere Attrition',\n",
       " 'Thymic Atrophy',\n",
       " 'UCP2',\n",
       " 'ULK1',\n",
       " 'VHL',\n",
       " 'Wnt',\n",
       " 'cMYC',\n",
       " 'lactate',\n",
       " 'mtDNA',\n",
       " 'p16',\n",
       " 'p53']"
      ]
     },
     "execution_count": 23,
     "metadata": {},
     "output_type": "execute_result"
    }
   ],
   "source": [
    "[nodes[i] for i in range(len(myclusters)) if myclusters2[i] == 0]"
   ]
  },
  {
   "cell_type": "code",
   "execution_count": 24,
   "metadata": {},
   "outputs": [
    {
     "data": {
      "text/plain": [
       "['AMPK',\n",
       " 'Akt',\n",
       " 'Cellular Senescence',\n",
       " 'Epigenetic Alteration',\n",
       " 'Genomic Instability',\n",
       " 'Loss of Proteostasis',\n",
       " 'NAD+',\n",
       " 'NFkB',\n",
       " 'PCG1a',\n",
       " 'ROS',\n",
       " 'SIRT1',\n",
       " 'Stem Cell Exhaustion',\n",
       " 'mTOR']"
      ]
     },
     "execution_count": 24,
     "metadata": {},
     "output_type": "execute_result"
    }
   ],
   "source": [
    "[nodes[i] for i in range(len(myclusters)) if myclusters2[i] == 1]"
   ]
  },
  {
   "cell_type": "code",
   "execution_count": null,
   "metadata": {},
   "outputs": [],
   "source": [
    "#five clusters"
   ]
  },
  {
   "cell_type": "code",
   "execution_count": 62,
   "metadata": {},
   "outputs": [
    {
     "name": "stderr",
     "output_type": "stream",
     "text": [
      "/anaconda3/lib/python3.6/site-packages/sklearn/utils/validation.py:709: UserWarning: Array is not symmetric, and will be converted to symmetric by average with its transpose.\n",
      "  warnings.warn(\"Array is not symmetric, and will be converted \"\n",
      "/anaconda3/lib/python3.6/site-packages/sklearn/manifold/spectral_embedding_.py:234: UserWarning: Graph is not fully connected, spectral embedding may not work as expected.\n",
      "  warnings.warn(\"Graph is not fully connected, spectral embedding\"\n"
     ]
    }
   ],
   "source": [
    "sc = SpectralClustering(5, affinity='precomputed', n_init=100)\n",
    "myclusters5=sc.fit_predict(bigmatrix)"
   ]
  },
  {
   "cell_type": "code",
   "execution_count": 63,
   "metadata": {},
   "outputs": [
    {
     "data": {
      "text/plain": [
       "['ATF6',\n",
       " 'Acetyl-CoA',\n",
       " 'Adipogenesis',\n",
       " 'Adiponectin',\n",
       " 'Altered Intercellular Communication',\n",
       " 'Apoptosis',\n",
       " 'Aromatase',\n",
       " 'BAD',\n",
       " 'BMAL1',\n",
       " 'CD28',\n",
       " 'CD38',\n",
       " 'CDC25',\n",
       " 'CLOCK',\n",
       " 'CRTC-1',\n",
       " 'CaMKKb',\n",
       " 'Cancerous Cells',\n",
       " 'Cell Loss and Atrophy',\n",
       " 'Death-Resistant Cells',\n",
       " 'Dysregulated Nutrient Sensing',\n",
       " 'ERRa',\n",
       " 'Estrogen',\n",
       " 'Extracellular Crosslinks',\n",
       " 'Extracellular Junk',\n",
       " 'FOXO1',\n",
       " 'GH',\n",
       " 'GM-CSF',\n",
       " 'GSK3',\n",
       " 'Genomic Instability',\n",
       " 'Gluconeogenesis',\n",
       " 'Glycolysis',\n",
       " 'GnRH',\n",
       " 'H2AX',\n",
       " 'H3K27me3',\n",
       " 'H3K4me3',\n",
       " 'H3K9me',\n",
       " 'H4K16ac',\n",
       " 'H4K20me3',\n",
       " 'HI1-a',\n",
       " 'HIF-1a',\n",
       " 'HIF1-a',\n",
       " 'HK39 deacetylation',\n",
       " 'HNF1a',\n",
       " 'HP1a',\n",
       " 'HSF1',\n",
       " 'HSP90',\n",
       " 'Hsp60',\n",
       " 'Hsp7',\n",
       " 'IFN-a',\n",
       " 'IL-1a',\n",
       " 'IL-1b',\n",
       " 'IL-2',\n",
       " 'IL-6',\n",
       " 'IRE1',\n",
       " 'Insulin',\n",
       " 'Insulin Sensitivity',\n",
       " 'Intracellular Junk',\n",
       " 'JNK',\n",
       " 'Klotho',\n",
       " 'LAMP2a',\n",
       " 'LKB1',\n",
       " 'LMNA',\n",
       " 'LNK',\n",
       " 'LRP',\n",
       " 'LXRa',\n",
       " 'Leptin',\n",
       " 'MAP2K4',\n",
       " 'MEKK',\n",
       " 'Melatonin',\n",
       " 'Mitochondrial Biogenesis',\n",
       " 'Mitochondrial Dysfunction',\n",
       " 'Mitochondrial Mutations',\n",
       " 'NAMPT',\n",
       " 'NGF',\n",
       " 'NMN',\n",
       " 'NO',\n",
       " 'NR',\n",
       " 'NRF-1',\n",
       " 'NRF-2',\n",
       " 'Neural stem cells',\n",
       " 'Norepinephrine',\n",
       " 'NuRD',\n",
       " 'PARP1',\n",
       " 'PCAF',\n",
       " 'PERK',\n",
       " 'PHD',\n",
       " 'PI3K',\n",
       " 'PP2a',\n",
       " 'PPARa',\n",
       " 'PPARg',\n",
       " 'PRAS40',\n",
       " 'PRDM13',\n",
       " 'PTEN',\n",
       " 'PTP1B',\n",
       " 'SIRT6',\n",
       " 'SOD',\n",
       " 'SOD2',\n",
       " 'Shelterin',\n",
       " 'Superoxide',\n",
       " 'TAK1',\n",
       " 'TERT',\n",
       " 'TFEB',\n",
       " 'TNF-a',\n",
       " 'TRL4',\n",
       " 'TSC',\n",
       " 'Thymic Atrophy',\n",
       " 'UCP2',\n",
       " 'ULK1',\n",
       " 'VHL',\n",
       " 'Wnt',\n",
       " 'cMYC',\n",
       " 'lactate',\n",
       " 'mtDNA',\n",
       " 'p53']"
      ]
     },
     "execution_count": 63,
     "metadata": {},
     "output_type": "execute_result"
    }
   ],
   "source": [
    "[nodes[i] for i in range(len(myclusters5)) if myclusters5[i] == 0]"
   ]
  },
  {
   "cell_type": "code",
   "execution_count": 64,
   "metadata": {},
   "outputs": [
    {
     "data": {
      "text/plain": [
       "['Cellular Senescence',\n",
       " 'ErK',\n",
       " 'IGF-1',\n",
       " 'MEK',\n",
       " 'RAF',\n",
       " 'ROS',\n",
       " 'Ras',\n",
       " 'Telomere Attrition',\n",
       " 'p16']"
      ]
     },
     "execution_count": 64,
     "metadata": {},
     "output_type": "execute_result"
    }
   ],
   "source": [
    "[nodes[i] for i in range(len(myclusters5)) if myclusters5[i] == 1]"
   ]
  },
  {
   "cell_type": "code",
   "execution_count": 65,
   "metadata": {},
   "outputs": [
    {
     "data": {
      "text/plain": [
       "['Epigenetic Alteration']"
      ]
     },
     "execution_count": 65,
     "metadata": {},
     "output_type": "execute_result"
    }
   ],
   "source": [
    "[nodes[i] for i in range(len(myclusters5)) if myclusters5[i] == 2]"
   ]
  },
  {
   "cell_type": "code",
   "execution_count": 66,
   "metadata": {},
   "outputs": [
    {
     "data": {
      "text/plain": [
       "['AMPK',\n",
       " 'Akt',\n",
       " 'Autophagy',\n",
       " 'Loss of Proteostasis',\n",
       " 'NAD+',\n",
       " 'PCG1a',\n",
       " 'SIRT1',\n",
       " 'Stem Cell Exhaustion',\n",
       " 'mTOR']"
      ]
     },
     "execution_count": 66,
     "metadata": {},
     "output_type": "execute_result"
    }
   ],
   "source": [
    "[nodes[i] for i in range(len(myclusters5)) if myclusters5[i] == 3]"
   ]
  },
  {
   "cell_type": "code",
   "execution_count": 67,
   "metadata": {},
   "outputs": [
    {
     "data": {
      "text/plain": [
       "['LAT', 'LcK', 'MAPK', 'NFkB', 'SHP-1']"
      ]
     },
     "execution_count": 67,
     "metadata": {},
     "output_type": "execute_result"
    }
   ],
   "source": [
    "[nodes[i] for i in range(len(myclusters5)) if myclusters5[i] == 4]"
   ]
  },
  {
   "cell_type": "code",
   "execution_count": null,
   "metadata": {},
   "outputs": [],
   "source": []
  }
 ],
 "metadata": {
  "kernelspec": {
   "display_name": "Python 3",
   "language": "python",
   "name": "python3"
  },
  "language_info": {
   "codemirror_mode": {
    "name": "ipython",
    "version": 3
   },
   "file_extension": ".py",
   "mimetype": "text/x-python",
   "name": "python",
   "nbconvert_exporter": "python",
   "pygments_lexer": "ipython3",
   "version": "3.6.4"
  }
 },
 "nbformat": 4,
 "nbformat_minor": 2
}
